{
  "nbformat": 4,
  "nbformat_minor": 0,
  "metadata": {
    "colab": {
      "provenance": [],
      "machine_shape": "hm",
      "gpuType": "V100"
    },
    "kernelspec": {
      "name": "python3",
      "display_name": "Python 3"
    },
    "language_info": {
      "name": "python"
    },
    "accelerator": "GPU"
  },
  "cells": [
    {
      "cell_type": "code",
      "execution_count": 18,
      "metadata": {
        "id": "HZAjRsEPBrde"
      },
      "outputs": [],
      "source": [
        "#import Libraries\n",
        "\n",
        "import pandas as pd\n",
        "import numpy as np\n",
        "import matplotlib.pyplot as plt\n",
        "import seaborn as sns\n",
        "import re"
      ]
    },
    {
      "cell_type": "code",
      "source": [
        "df = pd.read_csv(\"/content/drive/MyDrive/IMDB Dataset.csv\")"
      ],
      "metadata": {
        "id": "QmTeMzvrpI_D"
      },
      "execution_count": 2,
      "outputs": []
    },
    {
      "cell_type": "code",
      "source": [
        "df.head()"
      ],
      "metadata": {
        "colab": {
          "base_uri": "https://localhost:8080/",
          "height": 206
        },
        "id": "aIJzvFzJpnEB",
        "outputId": "89dfd77c-dec6-4f2d-961c-bc2bf8145e80"
      },
      "execution_count": 3,
      "outputs": [
        {
          "output_type": "execute_result",
          "data": {
            "text/plain": [
              "                                              review sentiment\n",
              "0  One of the other reviewers has mentioned that ...  positive\n",
              "1  A wonderful little production. <br /><br />The...  positive\n",
              "2  I thought this was a wonderful way to spend ti...  positive\n",
              "3  Basically there's a family where a little boy ...  negative\n",
              "4  Petter Mattei's \"Love in the Time of Money\" is...  positive"
            ],
            "text/html": [
              "\n",
              "  <div id=\"df-a5920ca6-c1a9-4941-a401-d1f25295bfc0\" class=\"colab-df-container\">\n",
              "    <div>\n",
              "<style scoped>\n",
              "    .dataframe tbody tr th:only-of-type {\n",
              "        vertical-align: middle;\n",
              "    }\n",
              "\n",
              "    .dataframe tbody tr th {\n",
              "        vertical-align: top;\n",
              "    }\n",
              "\n",
              "    .dataframe thead th {\n",
              "        text-align: right;\n",
              "    }\n",
              "</style>\n",
              "<table border=\"1\" class=\"dataframe\">\n",
              "  <thead>\n",
              "    <tr style=\"text-align: right;\">\n",
              "      <th></th>\n",
              "      <th>review</th>\n",
              "      <th>sentiment</th>\n",
              "    </tr>\n",
              "  </thead>\n",
              "  <tbody>\n",
              "    <tr>\n",
              "      <th>0</th>\n",
              "      <td>One of the other reviewers has mentioned that ...</td>\n",
              "      <td>positive</td>\n",
              "    </tr>\n",
              "    <tr>\n",
              "      <th>1</th>\n",
              "      <td>A wonderful little production. &lt;br /&gt;&lt;br /&gt;The...</td>\n",
              "      <td>positive</td>\n",
              "    </tr>\n",
              "    <tr>\n",
              "      <th>2</th>\n",
              "      <td>I thought this was a wonderful way to spend ti...</td>\n",
              "      <td>positive</td>\n",
              "    </tr>\n",
              "    <tr>\n",
              "      <th>3</th>\n",
              "      <td>Basically there's a family where a little boy ...</td>\n",
              "      <td>negative</td>\n",
              "    </tr>\n",
              "    <tr>\n",
              "      <th>4</th>\n",
              "      <td>Petter Mattei's \"Love in the Time of Money\" is...</td>\n",
              "      <td>positive</td>\n",
              "    </tr>\n",
              "  </tbody>\n",
              "</table>\n",
              "</div>\n",
              "    <div class=\"colab-df-buttons\">\n",
              "\n",
              "  <div class=\"colab-df-container\">\n",
              "    <button class=\"colab-df-convert\" onclick=\"convertToInteractive('df-a5920ca6-c1a9-4941-a401-d1f25295bfc0')\"\n",
              "            title=\"Convert this dataframe to an interactive table.\"\n",
              "            style=\"display:none;\">\n",
              "\n",
              "  <svg xmlns=\"http://www.w3.org/2000/svg\" height=\"24px\" viewBox=\"0 -960 960 960\">\n",
              "    <path d=\"M120-120v-720h720v720H120Zm60-500h600v-160H180v160Zm220 220h160v-160H400v160Zm0 220h160v-160H400v160ZM180-400h160v-160H180v160Zm440 0h160v-160H620v160ZM180-180h160v-160H180v160Zm440 0h160v-160H620v160Z\"/>\n",
              "  </svg>\n",
              "    </button>\n",
              "\n",
              "  <style>\n",
              "    .colab-df-container {\n",
              "      display:flex;\n",
              "      gap: 12px;\n",
              "    }\n",
              "\n",
              "    .colab-df-convert {\n",
              "      background-color: #E8F0FE;\n",
              "      border: none;\n",
              "      border-radius: 50%;\n",
              "      cursor: pointer;\n",
              "      display: none;\n",
              "      fill: #1967D2;\n",
              "      height: 32px;\n",
              "      padding: 0 0 0 0;\n",
              "      width: 32px;\n",
              "    }\n",
              "\n",
              "    .colab-df-convert:hover {\n",
              "      background-color: #E2EBFA;\n",
              "      box-shadow: 0px 1px 2px rgba(60, 64, 67, 0.3), 0px 1px 3px 1px rgba(60, 64, 67, 0.15);\n",
              "      fill: #174EA6;\n",
              "    }\n",
              "\n",
              "    .colab-df-buttons div {\n",
              "      margin-bottom: 4px;\n",
              "    }\n",
              "\n",
              "    [theme=dark] .colab-df-convert {\n",
              "      background-color: #3B4455;\n",
              "      fill: #D2E3FC;\n",
              "    }\n",
              "\n",
              "    [theme=dark] .colab-df-convert:hover {\n",
              "      background-color: #434B5C;\n",
              "      box-shadow: 0px 1px 3px 1px rgba(0, 0, 0, 0.15);\n",
              "      filter: drop-shadow(0px 1px 2px rgba(0, 0, 0, 0.3));\n",
              "      fill: #FFFFFF;\n",
              "    }\n",
              "  </style>\n",
              "\n",
              "    <script>\n",
              "      const buttonEl =\n",
              "        document.querySelector('#df-a5920ca6-c1a9-4941-a401-d1f25295bfc0 button.colab-df-convert');\n",
              "      buttonEl.style.display =\n",
              "        google.colab.kernel.accessAllowed ? 'block' : 'none';\n",
              "\n",
              "      async function convertToInteractive(key) {\n",
              "        const element = document.querySelector('#df-a5920ca6-c1a9-4941-a401-d1f25295bfc0');\n",
              "        const dataTable =\n",
              "          await google.colab.kernel.invokeFunction('convertToInteractive',\n",
              "                                                    [key], {});\n",
              "        if (!dataTable) return;\n",
              "\n",
              "        const docLinkHtml = 'Like what you see? Visit the ' +\n",
              "          '<a target=\"_blank\" href=https://colab.research.google.com/notebooks/data_table.ipynb>data table notebook</a>'\n",
              "          + ' to learn more about interactive tables.';\n",
              "        element.innerHTML = '';\n",
              "        dataTable['output_type'] = 'display_data';\n",
              "        await google.colab.output.renderOutput(dataTable, element);\n",
              "        const docLink = document.createElement('div');\n",
              "        docLink.innerHTML = docLinkHtml;\n",
              "        element.appendChild(docLink);\n",
              "      }\n",
              "    </script>\n",
              "  </div>\n",
              "\n",
              "\n",
              "<div id=\"df-ad3dce3a-476e-4941-b073-c875700af9d4\">\n",
              "  <button class=\"colab-df-quickchart\" onclick=\"quickchart('df-ad3dce3a-476e-4941-b073-c875700af9d4')\"\n",
              "            title=\"Suggest charts\"\n",
              "            style=\"display:none;\">\n",
              "\n",
              "<svg xmlns=\"http://www.w3.org/2000/svg\" height=\"24px\"viewBox=\"0 0 24 24\"\n",
              "     width=\"24px\">\n",
              "    <g>\n",
              "        <path d=\"M19 3H5c-1.1 0-2 .9-2 2v14c0 1.1.9 2 2 2h14c1.1 0 2-.9 2-2V5c0-1.1-.9-2-2-2zM9 17H7v-7h2v7zm4 0h-2V7h2v10zm4 0h-2v-4h2v4z\"/>\n",
              "    </g>\n",
              "</svg>\n",
              "  </button>\n",
              "\n",
              "<style>\n",
              "  .colab-df-quickchart {\n",
              "      --bg-color: #E8F0FE;\n",
              "      --fill-color: #1967D2;\n",
              "      --hover-bg-color: #E2EBFA;\n",
              "      --hover-fill-color: #174EA6;\n",
              "      --disabled-fill-color: #AAA;\n",
              "      --disabled-bg-color: #DDD;\n",
              "  }\n",
              "\n",
              "  [theme=dark] .colab-df-quickchart {\n",
              "      --bg-color: #3B4455;\n",
              "      --fill-color: #D2E3FC;\n",
              "      --hover-bg-color: #434B5C;\n",
              "      --hover-fill-color: #FFFFFF;\n",
              "      --disabled-bg-color: #3B4455;\n",
              "      --disabled-fill-color: #666;\n",
              "  }\n",
              "\n",
              "  .colab-df-quickchart {\n",
              "    background-color: var(--bg-color);\n",
              "    border: none;\n",
              "    border-radius: 50%;\n",
              "    cursor: pointer;\n",
              "    display: none;\n",
              "    fill: var(--fill-color);\n",
              "    height: 32px;\n",
              "    padding: 0;\n",
              "    width: 32px;\n",
              "  }\n",
              "\n",
              "  .colab-df-quickchart:hover {\n",
              "    background-color: var(--hover-bg-color);\n",
              "    box-shadow: 0 1px 2px rgba(60, 64, 67, 0.3), 0 1px 3px 1px rgba(60, 64, 67, 0.15);\n",
              "    fill: var(--button-hover-fill-color);\n",
              "  }\n",
              "\n",
              "  .colab-df-quickchart-complete:disabled,\n",
              "  .colab-df-quickchart-complete:disabled:hover {\n",
              "    background-color: var(--disabled-bg-color);\n",
              "    fill: var(--disabled-fill-color);\n",
              "    box-shadow: none;\n",
              "  }\n",
              "\n",
              "  .colab-df-spinner {\n",
              "    border: 2px solid var(--fill-color);\n",
              "    border-color: transparent;\n",
              "    border-bottom-color: var(--fill-color);\n",
              "    animation:\n",
              "      spin 1s steps(1) infinite;\n",
              "  }\n",
              "\n",
              "  @keyframes spin {\n",
              "    0% {\n",
              "      border-color: transparent;\n",
              "      border-bottom-color: var(--fill-color);\n",
              "      border-left-color: var(--fill-color);\n",
              "    }\n",
              "    20% {\n",
              "      border-color: transparent;\n",
              "      border-left-color: var(--fill-color);\n",
              "      border-top-color: var(--fill-color);\n",
              "    }\n",
              "    30% {\n",
              "      border-color: transparent;\n",
              "      border-left-color: var(--fill-color);\n",
              "      border-top-color: var(--fill-color);\n",
              "      border-right-color: var(--fill-color);\n",
              "    }\n",
              "    40% {\n",
              "      border-color: transparent;\n",
              "      border-right-color: var(--fill-color);\n",
              "      border-top-color: var(--fill-color);\n",
              "    }\n",
              "    60% {\n",
              "      border-color: transparent;\n",
              "      border-right-color: var(--fill-color);\n",
              "    }\n",
              "    80% {\n",
              "      border-color: transparent;\n",
              "      border-right-color: var(--fill-color);\n",
              "      border-bottom-color: var(--fill-color);\n",
              "    }\n",
              "    90% {\n",
              "      border-color: transparent;\n",
              "      border-bottom-color: var(--fill-color);\n",
              "    }\n",
              "  }\n",
              "</style>\n",
              "\n",
              "  <script>\n",
              "    async function quickchart(key) {\n",
              "      const quickchartButtonEl =\n",
              "        document.querySelector('#' + key + ' button');\n",
              "      quickchartButtonEl.disabled = true;  // To prevent multiple clicks.\n",
              "      quickchartButtonEl.classList.add('colab-df-spinner');\n",
              "      try {\n",
              "        const charts = await google.colab.kernel.invokeFunction(\n",
              "            'suggestCharts', [key], {});\n",
              "      } catch (error) {\n",
              "        console.error('Error during call to suggestCharts:', error);\n",
              "      }\n",
              "      quickchartButtonEl.classList.remove('colab-df-spinner');\n",
              "      quickchartButtonEl.classList.add('colab-df-quickchart-complete');\n",
              "    }\n",
              "    (() => {\n",
              "      let quickchartButtonEl =\n",
              "        document.querySelector('#df-ad3dce3a-476e-4941-b073-c875700af9d4 button');\n",
              "      quickchartButtonEl.style.display =\n",
              "        google.colab.kernel.accessAllowed ? 'block' : 'none';\n",
              "    })();\n",
              "  </script>\n",
              "</div>\n",
              "\n",
              "    </div>\n",
              "  </div>\n"
            ],
            "application/vnd.google.colaboratory.intrinsic+json": {
              "type": "dataframe",
              "variable_name": "df",
              "summary": "{\n  \"name\": \"df\",\n  \"rows\": 50000,\n  \"fields\": [\n    {\n      \"column\": \"review\",\n      \"properties\": {\n        \"dtype\": \"string\",\n        \"num_unique_values\": 49582,\n        \"samples\": [\n          \"\\\"Soul Plane\\\" is a horrible attempt at comedy that only should appeal people with thick skulls, bloodshot eyes and furry pawns. <br /><br />The plot is not only incoherent but also non-existent, acting is mostly sub sub-par with a gang of highly moronic and dreadful characters thrown in for bad measure, jokes are often spotted miles ahead and almost never even a bit amusing. This movie lacks any structure and is full of racial stereotypes that must have seemed old even in the fifties, the only thing it really has going for it is some pretty ladies, but really, if you want that you can rent something from the \\\"Adult\\\" section. OK?<br /><br />I can hardly see anything here to recommend since you'll probably have a lot a better and productive time chasing rats with a sledgehammer or inventing waterproof teabags or whatever.<br /><br />2/10\",\n          \"Guest from the Future tells a fascinating story of time travel, friendship, battle of good and evil -- all with a small budget, child actors, and few special effects. Something for Spielberg and Lucas to learn from. ;) A sixth-grader Kolya \\\"Nick\\\" Gerasimov finds a time machine in the basement of a decrepit building and travels 100 years into the future. He discovers a near-perfect, utopian society where robots play guitars and write poetry, everyone is kind to each other and people enjoy everything technology has to offer. Alice is the daughter of a prominent scientist who invented a device called Mielophone that allows to read minds of humans and animals. The device can be put to both good and bad use, depending on whose hands it falls into. When two evil space pirates from Saturn who want to rule the universe attempt to steal Mielophone, it falls into the hands of 20th century school boy Nick. With the pirates hot on his tracks, he travels back to his time, followed by the pirates, and Alice. Chaos, confusion and funny situations follow as the luckless pirates try to blend in with the earthlings. Alice enrolls in the same school Nick goes to and demonstrates superhuman abilities in PE class. The catch is, Alice doesn't know what Nick looks like, while the pirates do. Also, the pirates are able to change their appearance and turn literally into anyone. (Hmm, I wonder if this is where James Cameron got the idea for Terminator...) Who gets to Nick -- and Mielophone -- first? Excellent plot, non-stop adventures, and great soundtrack. I wish Hollywood made kid movies like this one...\",\n          \"\\\"National Treasure\\\" (2004) is a thoroughly misguided hodge-podge of plot entanglements that borrow from nearly every cloak and dagger government conspiracy clich\\u00e9 that has ever been written. The film stars Nicholas Cage as Benjamin Franklin Gates (how precious is that, I ask you?); a seemingly normal fellow who, for no other reason than being of a lineage of like-minded misguided fortune hunters, decides to steal a 'national treasure' that has been hidden by the United States founding fathers. After a bit of subtext and background that plays laughably (unintentionally) like Indiana Jones meets The Patriot, the film degenerates into one misguided whimsy after another \\u0096 attempting to create a 'Stanley Goodspeed' regurgitation of Nicholas Cage and launch the whole convoluted mess forward with a series of high octane, but disconnected misadventures.<br /><br />The relevancy and logic to having George Washington and his motley crew of patriots burying a king's ransom someplace on native soil, and then, going through the meticulous plan of leaving clues scattered throughout U.S. currency art work, is something that director Jon Turteltaub never quite gets around to explaining. Couldn't Washington found better usage for such wealth during the start up of the country? Hence, we are left with a mystery built on top of an enigma that is already on shaky ground by the time Ben appoints himself the new custodian of this untold wealth. Ben's intentions are noble \\u0096 if confusing. He's set on protecting the treasure. For who and when?\\u0085your guess is as good as mine.<br /><br />But there are a few problems with Ben's crusade. First up, his friend, Ian Holmes (Sean Bean) decides that he can't wait for Ben to make up his mind about stealing the Declaration of Independence from the National Archives (oh, yeah \\u0096 brilliant idea!). Presumably, the back of that famous document holds the secret answer to the ultimate fortune. So Ian tries to kill Ben. The assassination attempt is, of course, unsuccessful, if overly melodramatic. It also affords Ben the opportunity to pick up, and pick on, the very sultry curator of the archives, Abigail Chase (Diane Kruger). She thinks Ben is clearly a nut \\u0096 at least at the beginning. But true to action/romance form, Abby's resolve melts quicker than you can say, \\\"is that the Hope Diamond?\\\" The film moves into full X-File-ish mode, as the FBI, mistakenly believing that Ben is behind the theft, retaliate in various benign ways that lead to a multi-layering of action sequences reminiscent of Mission Impossible meets The Fugitive. Honestly, don't those guys ever get 'intelligence' information that is correct? In the final analysis, \\\"National Treasure\\\" isn't great film making, so much as it's a patchwork rehash of tired old bits from other movies, woven together from scraps, the likes of which would make IL' Betsy Ross blush.<br /><br />The Buena Vista DVD delivers a far more generous treatment than this film is deserving of. The anamorphic widescreen picture exhibits a very smooth and finely detailed image with very rich colors, natural flesh tones, solid blacks and clean whites. The stylized image is also free of blemishes and digital enhancements. The audio is 5.1 and delivers a nice sonic boom to your side and rear speakers with intensity and realism. Extras include a host of promotional junket material that is rather deep and over the top in its explanation of how and why this film was made. If only, as an audience, we had had more clarification as to why Ben and co. were chasing after an illusive treasure, this might have been one good flick. Extras conclude with the theatrical trailer, audio commentary and deleted scenes. Not for the faint-hearted \\u0096 just the thick-headed.\"\n        ],\n        \"semantic_type\": \"\",\n        \"description\": \"\"\n      }\n    },\n    {\n      \"column\": \"sentiment\",\n      \"properties\": {\n        \"dtype\": \"category\",\n        \"num_unique_values\": 2,\n        \"samples\": [\n          \"negative\",\n          \"positive\"\n        ],\n        \"semantic_type\": \"\",\n        \"description\": \"\"\n      }\n    }\n  ]\n}"
            }
          },
          "metadata": {},
          "execution_count": 3
        }
      ]
    },
    {
      "cell_type": "code",
      "source": [
        "for i in range(5,10):\n",
        "  print(df[r'review'][i])\n",
        "  print(\"********\\n\")"
      ],
      "metadata": {
        "colab": {
          "base_uri": "https://localhost:8080/"
        },
        "id": "4dHn3ERTprjO",
        "outputId": "7b38f624-7c5c-471d-aa92-bb8266fa45c6"
      },
      "execution_count": 6,
      "outputs": [
        {
          "output_type": "stream",
          "name": "stdout",
          "text": [
            "Probably my all-time favorite movie, a story of selflessness, sacrifice and dedication to a noble cause, but it's not preachy or boring. It just never gets old, despite my having seen it some 15 or more times in the last 25 years. Paul Lukas' performance brings tears to my eyes, and Bette Davis, in one of her very few truly sympathetic roles, is a delight. The kids are, as grandma says, more like \"dressed-up midgets\" than children, but that only makes them more fun to watch. And the mother's slow awakening to what's happening in the world and under her own roof is believable and startling. If I had a dozen thumbs, they'd all be \"up\" for this movie.\n",
            "********\n",
            "\n",
            "I sure would like to see a resurrection of a up dated Seahunt series with the tech they have today it would bring back the kid excitement in me.I grew up on black and white TV and Seahunt with Gunsmoke were my hero's every week.You have my vote for a comeback of a new sea hunt.We need a change of pace in TV and this would work for a world of under water adventure.Oh by the way thank you for an outlet like this to view many viewpoints about TV and the many movies.So any ole way I believe I've got what I wanna say.Would be nice to read some more plus points about sea hunt.If my rhymes would be 10 lines would you let me submit,or leave me out to be in doubt and have me to quit,If this is so then I must go so lets do it.\n",
            "********\n",
            "\n",
            "This show was an amazing, fresh & innovative idea in the 70's when it first aired. The first 7 or 8 years were brilliant, but things dropped off after that. By 1990, the show was not really funny anymore, and it's continued its decline further to the complete waste of time it is today.<br /><br />It's truly disgraceful how far this show has fallen. The writing is painfully bad, the performances are almost as bad - if not for the mildly entertaining respite of the guest-hosts, this show probably wouldn't still be on the air. I find it so hard to believe that the same creator that hand-selected the original cast also chose the band of hacks that followed. How can one recognize such brilliance and then see fit to replace it with such mediocrity? I felt I must give 2 stars out of respect for the original cast that made this show such a huge success. As it is now, the show is just awful. I can't believe it's still on the air.\n",
            "********\n",
            "\n",
            "Encouraged by the positive comments about this film on here I was looking forward to watching this film. Bad mistake. I've seen 950+ films and this is truly one of the worst of them - it's awful in almost every way: editing, pacing, storyline, 'acting,' soundtrack (the film's only song - a lame country tune - is played no less than four times). The film looks cheap and nasty and is boring in the extreme. Rarely have I been so happy to see the end credits of a film. <br /><br />The only thing that prevents me giving this a 1-score is Harvey Keitel - while this is far from his best performance he at least seems to be making a bit of an effort. One for Keitel obsessives only.\n",
            "********\n",
            "\n",
            "If you like original gut wrenching laughter you will like this movie. If you are young or old then you will love this movie, hell even my mom liked it.<br /><br />Great Camp!!!\n",
            "********\n",
            "\n"
          ]
        }
      ]
    },
    {
      "cell_type": "code",
      "source": [
        "df.shape"
      ],
      "metadata": {
        "colab": {
          "base_uri": "https://localhost:8080/"
        },
        "id": "fkbr09fRqWE0",
        "outputId": "c093484d-99c7-4a1c-e255-e3bc44ea52a1"
      },
      "execution_count": 7,
      "outputs": [
        {
          "output_type": "execute_result",
          "data": {
            "text/plain": [
              "(50000, 2)"
            ]
          },
          "metadata": {},
          "execution_count": 7
        }
      ]
    },
    {
      "cell_type": "code",
      "source": [
        "df.isnull().sum()"
      ],
      "metadata": {
        "colab": {
          "base_uri": "https://localhost:8080/"
        },
        "id": "_vmom9buq0Ne",
        "outputId": "019936bd-d8d8-4435-e694-04cf252df602"
      },
      "execution_count": 8,
      "outputs": [
        {
          "output_type": "execute_result",
          "data": {
            "text/plain": [
              "review       0\n",
              "sentiment    0\n",
              "dtype: int64"
            ]
          },
          "metadata": {},
          "execution_count": 8
        }
      ]
    },
    {
      "cell_type": "code",
      "source": [
        "#Data-Preprocessing\n",
        "\n",
        "def remove_html_tags(text):\n",
        "\n",
        "  clean = re.compile('<.*?>')\n",
        "  return re.sub(clean,'',text)"
      ],
      "metadata": {
        "id": "uOB4Hha8rDl1"
      },
      "execution_count": 14,
      "outputs": []
    },
    {
      "cell_type": "code",
      "source": [
        "df['review'] = df['review'].apply(remove_html_tags)"
      ],
      "metadata": {
        "id": "z-82t17VrkMn"
      },
      "execution_count": 15,
      "outputs": []
    },
    {
      "cell_type": "code",
      "source": [
        "def remove_punctuations(text):\n",
        "\n",
        "  re.sub(r'[^\\w\\s]','',text)\n",
        "  return text"
      ],
      "metadata": {
        "id": "BH7tDsM4ruAF"
      },
      "execution_count": 16,
      "outputs": []
    },
    {
      "cell_type": "code",
      "source": [
        "df['review'] = df['review'].apply(remove_punctuations)"
      ],
      "metadata": {
        "id": "yHhSuCJDtNAV"
      },
      "execution_count": 19,
      "outputs": []
    },
    {
      "cell_type": "code",
      "source": [
        "import nltk\n",
        "nltk.download('stopwords')\n",
        "\n",
        "from nltk.corpus import stopwords\n",
        "\n",
        "mystopwords = stopwords.words('english')"
      ],
      "metadata": {
        "colab": {
          "base_uri": "https://localhost:8080/"
        },
        "id": "H_gOx6bptSDF",
        "outputId": "feabacac-8721-4d79-c2a2-cfa6545b09c5"
      },
      "execution_count": 21,
      "outputs": [
        {
          "output_type": "stream",
          "name": "stderr",
          "text": [
            "[nltk_data] Downloading package stopwords to /root/nltk_data...\n",
            "[nltk_data]   Unzipping corpora/stopwords.zip.\n"
          ]
        }
      ]
    },
    {
      "cell_type": "code",
      "source": [
        "def remove_stopwords(text):\n",
        "\n",
        "  text = [word.lower() for word in text.split() if word.lower() not in mystopwords]\n",
        "  return \" \".join(text)"
      ],
      "metadata": {
        "id": "dV71N3Xhtf-r"
      },
      "execution_count": 25,
      "outputs": []
    },
    {
      "cell_type": "code",
      "source": [
        "df['review'] =  df['review'].apply(remove_stopwords)"
      ],
      "metadata": {
        "id": "VkDFm-1nu8gh"
      },
      "execution_count": 26,
      "outputs": []
    },
    {
      "cell_type": "code",
      "source": [
        "from sklearn.feature_extraction.text import CountVectorizer\n",
        "\n",
        "# Initialize CountVectorizer with default settings\n",
        "vectorizer = CountVectorizer()\n",
        "\n",
        "# Fit the vectorizer to the data and transform the text into a token matrix\n",
        "token_matrix = vectorizer.fit_transform(df['review'])\n",
        "\n",
        "\n",
        "\n"
      ],
      "metadata": {
        "id": "ucvHMCKEv6Hh"
      },
      "execution_count": 30,
      "outputs": []
    },
    {
      "cell_type": "code",
      "source": [
        "df['review']"
      ],
      "metadata": {
        "colab": {
          "base_uri": "https://localhost:8080/"
        },
        "id": "TqAWsG8xwpBs",
        "outputId": "76488a15-5020-451b-d356-f8d525aecd4a"
      },
      "execution_count": 29,
      "outputs": [
        {
          "output_type": "execute_result",
          "data": {
            "text/plain": [
              "0        one reviewers mentioned watching 1 oz episode ...\n",
              "1        wonderful little production. filming technique...\n",
              "2        thought wonderful way spend time hot summer we...\n",
              "3        basically there's family little boy (jake) thi...\n",
              "4        petter mattei's \"love time money\" visually stu...\n",
              "                               ...                        \n",
              "49995    thought movie right good job. creative origina...\n",
              "49996    bad plot, bad dialogue, bad acting, idiotic di...\n",
              "49997    catholic taught parochial elementary schools n...\n",
              "49998    i'm going disagree previous comment side malti...\n",
              "49999    one expects star trek movies high art, fans ex...\n",
              "Name: review, Length: 50000, dtype: object"
            ]
          },
          "metadata": {},
          "execution_count": 29
        }
      ]
    },
    {
      "cell_type": "code",
      "source": [
        "#Model Training\n",
        "from sklearn.preprocessing import LabelEncoder\n",
        "\n",
        "label_encoder = LabelEncoder()\n",
        "df['sentiment'] = label_encoder.fit_transform(df['sentiment'])"
      ],
      "metadata": {
        "id": "LzImjoCRx2kv"
      },
      "execution_count": 34,
      "outputs": []
    },
    {
      "cell_type": "code",
      "source": [
        "from sklearn.model_selection import train_test_split\n",
        "X_train, X_test, y_train, y_test = train_test_split(token_matrix, df['sentiment'], test_size=0.2, random_state=42)"
      ],
      "metadata": {
        "id": "D5XWOL9azKSh"
      },
      "execution_count": 35,
      "outputs": []
    },
    {
      "cell_type": "code",
      "source": [
        "\n",
        "\n",
        "\n",
        "from sklearn.linear_model import LogisticRegression\n",
        "\n",
        "# Initialize and train a logistic regression model\n",
        "model = LogisticRegression()\n",
        "model.fit(X_train, y_train)\n",
        "\n",
        "\n"
      ],
      "metadata": {
        "colab": {
          "base_uri": "https://localhost:8080/"
        },
        "id": "HWryrW0H1Z1w",
        "outputId": "6e62c878-29db-45c8-87e2-a8b027c6c5b1"
      },
      "execution_count": 38,
      "outputs": [
        {
          "output_type": "stream",
          "name": "stdout",
          "text": [
            "Accuracy: 0.8869\n"
          ]
        },
        {
          "output_type": "stream",
          "name": "stderr",
          "text": [
            "/usr/local/lib/python3.10/dist-packages/sklearn/linear_model/_logistic.py:458: ConvergenceWarning: lbfgs failed to converge (status=1):\n",
            "STOP: TOTAL NO. of ITERATIONS REACHED LIMIT.\n",
            "\n",
            "Increase the number of iterations (max_iter) or scale the data as shown in:\n",
            "    https://scikit-learn.org/stable/modules/preprocessing.html\n",
            "Please also refer to the documentation for alternative solver options:\n",
            "    https://scikit-learn.org/stable/modules/linear_model.html#logistic-regression\n",
            "  n_iter_i = _check_optimize_result(\n"
          ]
        }
      ]
    },
    {
      "cell_type": "code",
      "source": [
        "# Evaluate the model\n",
        "accuracy = model.score(X_test, y_test)\n",
        "print(\"Accuracy:\", accuracy)"
      ],
      "metadata": {
        "colab": {
          "base_uri": "https://localhost:8080/"
        },
        "id": "Bd5TECrS1lbf",
        "outputId": "f9c4ce40-443b-4f62-c5a0-4c7d4e0997e3"
      },
      "execution_count": 39,
      "outputs": [
        {
          "output_type": "stream",
          "name": "stdout",
          "text": [
            "Accuracy: 0.8869\n"
          ]
        }
      ]
    },
    {
      "cell_type": "code",
      "source": [
        "#Let's try decision tree classifier\n",
        "\n",
        "from sklearn.tree import DecisionTreeClassifier\n",
        "\n",
        "model = DecisionTreeClassifier()\n",
        "model.fit(X_train, y_train)"
      ],
      "metadata": {
        "colab": {
          "base_uri": "https://localhost:8080/",
          "height": 74
        },
        "id": "TW_WbEG-10Bz",
        "outputId": "642a2a47-2b2e-4f27-c041-a466163123ea"
      },
      "execution_count": 40,
      "outputs": [
        {
          "output_type": "execute_result",
          "data": {
            "text/plain": [
              "DecisionTreeClassifier()"
            ],
            "text/html": [
              "<style>#sk-container-id-2 {color: black;background-color: white;}#sk-container-id-2 pre{padding: 0;}#sk-container-id-2 div.sk-toggleable {background-color: white;}#sk-container-id-2 label.sk-toggleable__label {cursor: pointer;display: block;width: 100%;margin-bottom: 0;padding: 0.3em;box-sizing: border-box;text-align: center;}#sk-container-id-2 label.sk-toggleable__label-arrow:before {content: \"▸\";float: left;margin-right: 0.25em;color: #696969;}#sk-container-id-2 label.sk-toggleable__label-arrow:hover:before {color: black;}#sk-container-id-2 div.sk-estimator:hover label.sk-toggleable__label-arrow:before {color: black;}#sk-container-id-2 div.sk-toggleable__content {max-height: 0;max-width: 0;overflow: hidden;text-align: left;background-color: #f0f8ff;}#sk-container-id-2 div.sk-toggleable__content pre {margin: 0.2em;color: black;border-radius: 0.25em;background-color: #f0f8ff;}#sk-container-id-2 input.sk-toggleable__control:checked~div.sk-toggleable__content {max-height: 200px;max-width: 100%;overflow: auto;}#sk-container-id-2 input.sk-toggleable__control:checked~label.sk-toggleable__label-arrow:before {content: \"▾\";}#sk-container-id-2 div.sk-estimator input.sk-toggleable__control:checked~label.sk-toggleable__label {background-color: #d4ebff;}#sk-container-id-2 div.sk-label input.sk-toggleable__control:checked~label.sk-toggleable__label {background-color: #d4ebff;}#sk-container-id-2 input.sk-hidden--visually {border: 0;clip: rect(1px 1px 1px 1px);clip: rect(1px, 1px, 1px, 1px);height: 1px;margin: -1px;overflow: hidden;padding: 0;position: absolute;width: 1px;}#sk-container-id-2 div.sk-estimator {font-family: monospace;background-color: #f0f8ff;border: 1px dotted black;border-radius: 0.25em;box-sizing: border-box;margin-bottom: 0.5em;}#sk-container-id-2 div.sk-estimator:hover {background-color: #d4ebff;}#sk-container-id-2 div.sk-parallel-item::after {content: \"\";width: 100%;border-bottom: 1px solid gray;flex-grow: 1;}#sk-container-id-2 div.sk-label:hover label.sk-toggleable__label {background-color: #d4ebff;}#sk-container-id-2 div.sk-serial::before {content: \"\";position: absolute;border-left: 1px solid gray;box-sizing: border-box;top: 0;bottom: 0;left: 50%;z-index: 0;}#sk-container-id-2 div.sk-serial {display: flex;flex-direction: column;align-items: center;background-color: white;padding-right: 0.2em;padding-left: 0.2em;position: relative;}#sk-container-id-2 div.sk-item {position: relative;z-index: 1;}#sk-container-id-2 div.sk-parallel {display: flex;align-items: stretch;justify-content: center;background-color: white;position: relative;}#sk-container-id-2 div.sk-item::before, #sk-container-id-2 div.sk-parallel-item::before {content: \"\";position: absolute;border-left: 1px solid gray;box-sizing: border-box;top: 0;bottom: 0;left: 50%;z-index: -1;}#sk-container-id-2 div.sk-parallel-item {display: flex;flex-direction: column;z-index: 1;position: relative;background-color: white;}#sk-container-id-2 div.sk-parallel-item:first-child::after {align-self: flex-end;width: 50%;}#sk-container-id-2 div.sk-parallel-item:last-child::after {align-self: flex-start;width: 50%;}#sk-container-id-2 div.sk-parallel-item:only-child::after {width: 0;}#sk-container-id-2 div.sk-dashed-wrapped {border: 1px dashed gray;margin: 0 0.4em 0.5em 0.4em;box-sizing: border-box;padding-bottom: 0.4em;background-color: white;}#sk-container-id-2 div.sk-label label {font-family: monospace;font-weight: bold;display: inline-block;line-height: 1.2em;}#sk-container-id-2 div.sk-label-container {text-align: center;}#sk-container-id-2 div.sk-container {/* jupyter's `normalize.less` sets `[hidden] { display: none; }` but bootstrap.min.css set `[hidden] { display: none !important; }` so we also need the `!important` here to be able to override the default hidden behavior on the sphinx rendered scikit-learn.org. See: https://github.com/scikit-learn/scikit-learn/issues/21755 */display: inline-block !important;position: relative;}#sk-container-id-2 div.sk-text-repr-fallback {display: none;}</style><div id=\"sk-container-id-2\" class=\"sk-top-container\"><div class=\"sk-text-repr-fallback\"><pre>DecisionTreeClassifier()</pre><b>In a Jupyter environment, please rerun this cell to show the HTML representation or trust the notebook. <br />On GitHub, the HTML representation is unable to render, please try loading this page with nbviewer.org.</b></div><div class=\"sk-container\" hidden><div class=\"sk-item\"><div class=\"sk-estimator sk-toggleable\"><input class=\"sk-toggleable__control sk-hidden--visually\" id=\"sk-estimator-id-2\" type=\"checkbox\" checked><label for=\"sk-estimator-id-2\" class=\"sk-toggleable__label sk-toggleable__label-arrow\">DecisionTreeClassifier</label><div class=\"sk-toggleable__content\"><pre>DecisionTreeClassifier()</pre></div></div></div></div></div>"
            ]
          },
          "metadata": {},
          "execution_count": 40
        }
      ]
    },
    {
      "cell_type": "code",
      "source": [
        "#Let's evaluate\n",
        "\n",
        "score = model.score(X_test,y_test)\n",
        "print(score)"
      ],
      "metadata": {
        "colab": {
          "base_uri": "https://localhost:8080/"
        },
        "id": "_5ut5Ojz2CBE",
        "outputId": "9c151b52-d6c4-40b6-fb9a-baf354834e51"
      },
      "execution_count": 41,
      "outputs": [
        {
          "output_type": "stream",
          "name": "stdout",
          "text": [
            "0.7344\n"
          ]
        }
      ]
    },
    {
      "cell_type": "code",
      "source": [
        "predict = model.predict(X_test)\n",
        "predict"
      ],
      "metadata": {
        "colab": {
          "base_uri": "https://localhost:8080/"
        },
        "id": "7D8gHQVi2cje",
        "outputId": "e31befe8-940c-4c61-98c9-fad3a2930413"
      },
      "execution_count": 42,
      "outputs": [
        {
          "output_type": "execute_result",
          "data": {
            "text/plain": [
              "array([1, 0, 0, ..., 1, 1, 1])"
            ]
          },
          "metadata": {},
          "execution_count": 42
        }
      ]
    },
    {
      "cell_type": "code",
      "source": [
        "#let's try random forest\n",
        "\n",
        "\n",
        "from sklearn.ensemble import RandomForestClassifier\n",
        "\n",
        "model = RandomForestClassifier()\n",
        "model.fit(X_train, y_train)\n"
      ],
      "metadata": {
        "colab": {
          "base_uri": "https://localhost:8080/",
          "height": 74
        },
        "id": "lzbUBIh52ixd",
        "outputId": "426450c4-054b-4eba-d53d-76e6238c36e1"
      },
      "execution_count": 43,
      "outputs": [
        {
          "output_type": "execute_result",
          "data": {
            "text/plain": [
              "RandomForestClassifier()"
            ],
            "text/html": [
              "<style>#sk-container-id-3 {color: black;background-color: white;}#sk-container-id-3 pre{padding: 0;}#sk-container-id-3 div.sk-toggleable {background-color: white;}#sk-container-id-3 label.sk-toggleable__label {cursor: pointer;display: block;width: 100%;margin-bottom: 0;padding: 0.3em;box-sizing: border-box;text-align: center;}#sk-container-id-3 label.sk-toggleable__label-arrow:before {content: \"▸\";float: left;margin-right: 0.25em;color: #696969;}#sk-container-id-3 label.sk-toggleable__label-arrow:hover:before {color: black;}#sk-container-id-3 div.sk-estimator:hover label.sk-toggleable__label-arrow:before {color: black;}#sk-container-id-3 div.sk-toggleable__content {max-height: 0;max-width: 0;overflow: hidden;text-align: left;background-color: #f0f8ff;}#sk-container-id-3 div.sk-toggleable__content pre {margin: 0.2em;color: black;border-radius: 0.25em;background-color: #f0f8ff;}#sk-container-id-3 input.sk-toggleable__control:checked~div.sk-toggleable__content {max-height: 200px;max-width: 100%;overflow: auto;}#sk-container-id-3 input.sk-toggleable__control:checked~label.sk-toggleable__label-arrow:before {content: \"▾\";}#sk-container-id-3 div.sk-estimator input.sk-toggleable__control:checked~label.sk-toggleable__label {background-color: #d4ebff;}#sk-container-id-3 div.sk-label input.sk-toggleable__control:checked~label.sk-toggleable__label {background-color: #d4ebff;}#sk-container-id-3 input.sk-hidden--visually {border: 0;clip: rect(1px 1px 1px 1px);clip: rect(1px, 1px, 1px, 1px);height: 1px;margin: -1px;overflow: hidden;padding: 0;position: absolute;width: 1px;}#sk-container-id-3 div.sk-estimator {font-family: monospace;background-color: #f0f8ff;border: 1px dotted black;border-radius: 0.25em;box-sizing: border-box;margin-bottom: 0.5em;}#sk-container-id-3 div.sk-estimator:hover {background-color: #d4ebff;}#sk-container-id-3 div.sk-parallel-item::after {content: \"\";width: 100%;border-bottom: 1px solid gray;flex-grow: 1;}#sk-container-id-3 div.sk-label:hover label.sk-toggleable__label {background-color: #d4ebff;}#sk-container-id-3 div.sk-serial::before {content: \"\";position: absolute;border-left: 1px solid gray;box-sizing: border-box;top: 0;bottom: 0;left: 50%;z-index: 0;}#sk-container-id-3 div.sk-serial {display: flex;flex-direction: column;align-items: center;background-color: white;padding-right: 0.2em;padding-left: 0.2em;position: relative;}#sk-container-id-3 div.sk-item {position: relative;z-index: 1;}#sk-container-id-3 div.sk-parallel {display: flex;align-items: stretch;justify-content: center;background-color: white;position: relative;}#sk-container-id-3 div.sk-item::before, #sk-container-id-3 div.sk-parallel-item::before {content: \"\";position: absolute;border-left: 1px solid gray;box-sizing: border-box;top: 0;bottom: 0;left: 50%;z-index: -1;}#sk-container-id-3 div.sk-parallel-item {display: flex;flex-direction: column;z-index: 1;position: relative;background-color: white;}#sk-container-id-3 div.sk-parallel-item:first-child::after {align-self: flex-end;width: 50%;}#sk-container-id-3 div.sk-parallel-item:last-child::after {align-self: flex-start;width: 50%;}#sk-container-id-3 div.sk-parallel-item:only-child::after {width: 0;}#sk-container-id-3 div.sk-dashed-wrapped {border: 1px dashed gray;margin: 0 0.4em 0.5em 0.4em;box-sizing: border-box;padding-bottom: 0.4em;background-color: white;}#sk-container-id-3 div.sk-label label {font-family: monospace;font-weight: bold;display: inline-block;line-height: 1.2em;}#sk-container-id-3 div.sk-label-container {text-align: center;}#sk-container-id-3 div.sk-container {/* jupyter's `normalize.less` sets `[hidden] { display: none; }` but bootstrap.min.css set `[hidden] { display: none !important; }` so we also need the `!important` here to be able to override the default hidden behavior on the sphinx rendered scikit-learn.org. See: https://github.com/scikit-learn/scikit-learn/issues/21755 */display: inline-block !important;position: relative;}#sk-container-id-3 div.sk-text-repr-fallback {display: none;}</style><div id=\"sk-container-id-3\" class=\"sk-top-container\"><div class=\"sk-text-repr-fallback\"><pre>RandomForestClassifier()</pre><b>In a Jupyter environment, please rerun this cell to show the HTML representation or trust the notebook. <br />On GitHub, the HTML representation is unable to render, please try loading this page with nbviewer.org.</b></div><div class=\"sk-container\" hidden><div class=\"sk-item\"><div class=\"sk-estimator sk-toggleable\"><input class=\"sk-toggleable__control sk-hidden--visually\" id=\"sk-estimator-id-3\" type=\"checkbox\" checked><label for=\"sk-estimator-id-3\" class=\"sk-toggleable__label sk-toggleable__label-arrow\">RandomForestClassifier</label><div class=\"sk-toggleable__content\"><pre>RandomForestClassifier()</pre></div></div></div></div></div>"
            ]
          },
          "metadata": {},
          "execution_count": 43
        }
      ]
    },
    {
      "cell_type": "code",
      "source": [
        "score = model.score(X_test,y_test)\n",
        "print(score)"
      ],
      "metadata": {
        "colab": {
          "base_uri": "https://localhost:8080/"
        },
        "id": "UwRq9dkv3EQX",
        "outputId": "c8f8a14d-6d20-4424-a248-7f9925e76931"
      },
      "execution_count": 44,
      "outputs": [
        {
          "output_type": "stream",
          "name": "stdout",
          "text": [
            "0.86\n"
          ]
        }
      ]
    },
    {
      "cell_type": "code",
      "source": [
        "from sklearn.naive_bayes import MultinomialNB\n",
        "\n",
        "model = MultinomialNB()\n",
        "model.fit(X_train, y_train)"
      ],
      "metadata": {
        "colab": {
          "base_uri": "https://localhost:8080/",
          "height": 74
        },
        "id": "PyBAwbsj4MaF",
        "outputId": "1886fabc-2728-4269-b11a-877ded102e37"
      },
      "execution_count": 45,
      "outputs": [
        {
          "output_type": "execute_result",
          "data": {
            "text/plain": [
              "MultinomialNB()"
            ],
            "text/html": [
              "<style>#sk-container-id-4 {color: black;background-color: white;}#sk-container-id-4 pre{padding: 0;}#sk-container-id-4 div.sk-toggleable {background-color: white;}#sk-container-id-4 label.sk-toggleable__label {cursor: pointer;display: block;width: 100%;margin-bottom: 0;padding: 0.3em;box-sizing: border-box;text-align: center;}#sk-container-id-4 label.sk-toggleable__label-arrow:before {content: \"▸\";float: left;margin-right: 0.25em;color: #696969;}#sk-container-id-4 label.sk-toggleable__label-arrow:hover:before {color: black;}#sk-container-id-4 div.sk-estimator:hover label.sk-toggleable__label-arrow:before {color: black;}#sk-container-id-4 div.sk-toggleable__content {max-height: 0;max-width: 0;overflow: hidden;text-align: left;background-color: #f0f8ff;}#sk-container-id-4 div.sk-toggleable__content pre {margin: 0.2em;color: black;border-radius: 0.25em;background-color: #f0f8ff;}#sk-container-id-4 input.sk-toggleable__control:checked~div.sk-toggleable__content {max-height: 200px;max-width: 100%;overflow: auto;}#sk-container-id-4 input.sk-toggleable__control:checked~label.sk-toggleable__label-arrow:before {content: \"▾\";}#sk-container-id-4 div.sk-estimator input.sk-toggleable__control:checked~label.sk-toggleable__label {background-color: #d4ebff;}#sk-container-id-4 div.sk-label input.sk-toggleable__control:checked~label.sk-toggleable__label {background-color: #d4ebff;}#sk-container-id-4 input.sk-hidden--visually {border: 0;clip: rect(1px 1px 1px 1px);clip: rect(1px, 1px, 1px, 1px);height: 1px;margin: -1px;overflow: hidden;padding: 0;position: absolute;width: 1px;}#sk-container-id-4 div.sk-estimator {font-family: monospace;background-color: #f0f8ff;border: 1px dotted black;border-radius: 0.25em;box-sizing: border-box;margin-bottom: 0.5em;}#sk-container-id-4 div.sk-estimator:hover {background-color: #d4ebff;}#sk-container-id-4 div.sk-parallel-item::after {content: \"\";width: 100%;border-bottom: 1px solid gray;flex-grow: 1;}#sk-container-id-4 div.sk-label:hover label.sk-toggleable__label {background-color: #d4ebff;}#sk-container-id-4 div.sk-serial::before {content: \"\";position: absolute;border-left: 1px solid gray;box-sizing: border-box;top: 0;bottom: 0;left: 50%;z-index: 0;}#sk-container-id-4 div.sk-serial {display: flex;flex-direction: column;align-items: center;background-color: white;padding-right: 0.2em;padding-left: 0.2em;position: relative;}#sk-container-id-4 div.sk-item {position: relative;z-index: 1;}#sk-container-id-4 div.sk-parallel {display: flex;align-items: stretch;justify-content: center;background-color: white;position: relative;}#sk-container-id-4 div.sk-item::before, #sk-container-id-4 div.sk-parallel-item::before {content: \"\";position: absolute;border-left: 1px solid gray;box-sizing: border-box;top: 0;bottom: 0;left: 50%;z-index: -1;}#sk-container-id-4 div.sk-parallel-item {display: flex;flex-direction: column;z-index: 1;position: relative;background-color: white;}#sk-container-id-4 div.sk-parallel-item:first-child::after {align-self: flex-end;width: 50%;}#sk-container-id-4 div.sk-parallel-item:last-child::after {align-self: flex-start;width: 50%;}#sk-container-id-4 div.sk-parallel-item:only-child::after {width: 0;}#sk-container-id-4 div.sk-dashed-wrapped {border: 1px dashed gray;margin: 0 0.4em 0.5em 0.4em;box-sizing: border-box;padding-bottom: 0.4em;background-color: white;}#sk-container-id-4 div.sk-label label {font-family: monospace;font-weight: bold;display: inline-block;line-height: 1.2em;}#sk-container-id-4 div.sk-label-container {text-align: center;}#sk-container-id-4 div.sk-container {/* jupyter's `normalize.less` sets `[hidden] { display: none; }` but bootstrap.min.css set `[hidden] { display: none !important; }` so we also need the `!important` here to be able to override the default hidden behavior on the sphinx rendered scikit-learn.org. See: https://github.com/scikit-learn/scikit-learn/issues/21755 */display: inline-block !important;position: relative;}#sk-container-id-4 div.sk-text-repr-fallback {display: none;}</style><div id=\"sk-container-id-4\" class=\"sk-top-container\"><div class=\"sk-text-repr-fallback\"><pre>MultinomialNB()</pre><b>In a Jupyter environment, please rerun this cell to show the HTML representation or trust the notebook. <br />On GitHub, the HTML representation is unable to render, please try loading this page with nbviewer.org.</b></div><div class=\"sk-container\" hidden><div class=\"sk-item\"><div class=\"sk-estimator sk-toggleable\"><input class=\"sk-toggleable__control sk-hidden--visually\" id=\"sk-estimator-id-4\" type=\"checkbox\" checked><label for=\"sk-estimator-id-4\" class=\"sk-toggleable__label sk-toggleable__label-arrow\">MultinomialNB</label><div class=\"sk-toggleable__content\"><pre>MultinomialNB()</pre></div></div></div></div></div>"
            ]
          },
          "metadata": {},
          "execution_count": 45
        }
      ]
    },
    {
      "cell_type": "code",
      "source": [
        "score = model.score(X_test,y_test)\n",
        "print(score)"
      ],
      "metadata": {
        "colab": {
          "base_uri": "https://localhost:8080/"
        },
        "id": "vyoDssCo4kkC",
        "outputId": "0498bffe-4c3e-436b-91bc-bf2caeaeef95"
      },
      "execution_count": 46,
      "outputs": [
        {
          "output_type": "stream",
          "name": "stdout",
          "text": [
            "0.8582\n"
          ]
        }
      ]
    },
    {
      "cell_type": "code",
      "source": [
        "from sklearn.naive_bayes import BernoulliNB\n",
        "\n",
        "model = BernoulliNB()\n",
        "model.fit(X_train, y_train)"
      ],
      "metadata": {
        "colab": {
          "base_uri": "https://localhost:8080/",
          "height": 74
        },
        "id": "vO9gO28m4nU4",
        "outputId": "87e01824-70cf-49df-80e0-511772ef81c9"
      },
      "execution_count": 47,
      "outputs": [
        {
          "output_type": "execute_result",
          "data": {
            "text/plain": [
              "BernoulliNB()"
            ],
            "text/html": [
              "<style>#sk-container-id-5 {color: black;background-color: white;}#sk-container-id-5 pre{padding: 0;}#sk-container-id-5 div.sk-toggleable {background-color: white;}#sk-container-id-5 label.sk-toggleable__label {cursor: pointer;display: block;width: 100%;margin-bottom: 0;padding: 0.3em;box-sizing: border-box;text-align: center;}#sk-container-id-5 label.sk-toggleable__label-arrow:before {content: \"▸\";float: left;margin-right: 0.25em;color: #696969;}#sk-container-id-5 label.sk-toggleable__label-arrow:hover:before {color: black;}#sk-container-id-5 div.sk-estimator:hover label.sk-toggleable__label-arrow:before {color: black;}#sk-container-id-5 div.sk-toggleable__content {max-height: 0;max-width: 0;overflow: hidden;text-align: left;background-color: #f0f8ff;}#sk-container-id-5 div.sk-toggleable__content pre {margin: 0.2em;color: black;border-radius: 0.25em;background-color: #f0f8ff;}#sk-container-id-5 input.sk-toggleable__control:checked~div.sk-toggleable__content {max-height: 200px;max-width: 100%;overflow: auto;}#sk-container-id-5 input.sk-toggleable__control:checked~label.sk-toggleable__label-arrow:before {content: \"▾\";}#sk-container-id-5 div.sk-estimator input.sk-toggleable__control:checked~label.sk-toggleable__label {background-color: #d4ebff;}#sk-container-id-5 div.sk-label input.sk-toggleable__control:checked~label.sk-toggleable__label {background-color: #d4ebff;}#sk-container-id-5 input.sk-hidden--visually {border: 0;clip: rect(1px 1px 1px 1px);clip: rect(1px, 1px, 1px, 1px);height: 1px;margin: -1px;overflow: hidden;padding: 0;position: absolute;width: 1px;}#sk-container-id-5 div.sk-estimator {font-family: monospace;background-color: #f0f8ff;border: 1px dotted black;border-radius: 0.25em;box-sizing: border-box;margin-bottom: 0.5em;}#sk-container-id-5 div.sk-estimator:hover {background-color: #d4ebff;}#sk-container-id-5 div.sk-parallel-item::after {content: \"\";width: 100%;border-bottom: 1px solid gray;flex-grow: 1;}#sk-container-id-5 div.sk-label:hover label.sk-toggleable__label {background-color: #d4ebff;}#sk-container-id-5 div.sk-serial::before {content: \"\";position: absolute;border-left: 1px solid gray;box-sizing: border-box;top: 0;bottom: 0;left: 50%;z-index: 0;}#sk-container-id-5 div.sk-serial {display: flex;flex-direction: column;align-items: center;background-color: white;padding-right: 0.2em;padding-left: 0.2em;position: relative;}#sk-container-id-5 div.sk-item {position: relative;z-index: 1;}#sk-container-id-5 div.sk-parallel {display: flex;align-items: stretch;justify-content: center;background-color: white;position: relative;}#sk-container-id-5 div.sk-item::before, #sk-container-id-5 div.sk-parallel-item::before {content: \"\";position: absolute;border-left: 1px solid gray;box-sizing: border-box;top: 0;bottom: 0;left: 50%;z-index: -1;}#sk-container-id-5 div.sk-parallel-item {display: flex;flex-direction: column;z-index: 1;position: relative;background-color: white;}#sk-container-id-5 div.sk-parallel-item:first-child::after {align-self: flex-end;width: 50%;}#sk-container-id-5 div.sk-parallel-item:last-child::after {align-self: flex-start;width: 50%;}#sk-container-id-5 div.sk-parallel-item:only-child::after {width: 0;}#sk-container-id-5 div.sk-dashed-wrapped {border: 1px dashed gray;margin: 0 0.4em 0.5em 0.4em;box-sizing: border-box;padding-bottom: 0.4em;background-color: white;}#sk-container-id-5 div.sk-label label {font-family: monospace;font-weight: bold;display: inline-block;line-height: 1.2em;}#sk-container-id-5 div.sk-label-container {text-align: center;}#sk-container-id-5 div.sk-container {/* jupyter's `normalize.less` sets `[hidden] { display: none; }` but bootstrap.min.css set `[hidden] { display: none !important; }` so we also need the `!important` here to be able to override the default hidden behavior on the sphinx rendered scikit-learn.org. See: https://github.com/scikit-learn/scikit-learn/issues/21755 */display: inline-block !important;position: relative;}#sk-container-id-5 div.sk-text-repr-fallback {display: none;}</style><div id=\"sk-container-id-5\" class=\"sk-top-container\"><div class=\"sk-text-repr-fallback\"><pre>BernoulliNB()</pre><b>In a Jupyter environment, please rerun this cell to show the HTML representation or trust the notebook. <br />On GitHub, the HTML representation is unable to render, please try loading this page with nbviewer.org.</b></div><div class=\"sk-container\" hidden><div class=\"sk-item\"><div class=\"sk-estimator sk-toggleable\"><input class=\"sk-toggleable__control sk-hidden--visually\" id=\"sk-estimator-id-5\" type=\"checkbox\" checked><label for=\"sk-estimator-id-5\" class=\"sk-toggleable__label sk-toggleable__label-arrow\">BernoulliNB</label><div class=\"sk-toggleable__content\"><pre>BernoulliNB()</pre></div></div></div></div></div>"
            ]
          },
          "metadata": {},
          "execution_count": 47
        }
      ]
    },
    {
      "cell_type": "code",
      "source": [
        "score= model.score(X_test,y_test)\n",
        "print(score)"
      ],
      "metadata": {
        "colab": {
          "base_uri": "https://localhost:8080/"
        },
        "id": "wz30PWkZ4zPX",
        "outputId": "3f018e66-10fe-48f6-b238-4822d2e1e25a"
      },
      "execution_count": 48,
      "outputs": [
        {
          "output_type": "stream",
          "name": "stdout",
          "text": [
            "0.8546\n"
          ]
        }
      ]
    },
    {
      "cell_type": "code",
      "source": [
        "from sklearn.naive_bayes import GaussianNB\n",
        "\n",
        "model = GaussianNB()\n",
        "model.fit(X_train.toarray(), y_train)"
      ],
      "metadata": {
        "colab": {
          "base_uri": "https://localhost:8080/",
          "height": 74
        },
        "id": "st8KWgID42Or",
        "outputId": "8683e7d4-600e-41fd-9ad9-420d4b8ab25f"
      },
      "execution_count": 51,
      "outputs": [
        {
          "output_type": "execute_result",
          "data": {
            "text/plain": [
              "GaussianNB()"
            ],
            "text/html": [
              "<style>#sk-container-id-6 {color: black;background-color: white;}#sk-container-id-6 pre{padding: 0;}#sk-container-id-6 div.sk-toggleable {background-color: white;}#sk-container-id-6 label.sk-toggleable__label {cursor: pointer;display: block;width: 100%;margin-bottom: 0;padding: 0.3em;box-sizing: border-box;text-align: center;}#sk-container-id-6 label.sk-toggleable__label-arrow:before {content: \"▸\";float: left;margin-right: 0.25em;color: #696969;}#sk-container-id-6 label.sk-toggleable__label-arrow:hover:before {color: black;}#sk-container-id-6 div.sk-estimator:hover label.sk-toggleable__label-arrow:before {color: black;}#sk-container-id-6 div.sk-toggleable__content {max-height: 0;max-width: 0;overflow: hidden;text-align: left;background-color: #f0f8ff;}#sk-container-id-6 div.sk-toggleable__content pre {margin: 0.2em;color: black;border-radius: 0.25em;background-color: #f0f8ff;}#sk-container-id-6 input.sk-toggleable__control:checked~div.sk-toggleable__content {max-height: 200px;max-width: 100%;overflow: auto;}#sk-container-id-6 input.sk-toggleable__control:checked~label.sk-toggleable__label-arrow:before {content: \"▾\";}#sk-container-id-6 div.sk-estimator input.sk-toggleable__control:checked~label.sk-toggleable__label {background-color: #d4ebff;}#sk-container-id-6 div.sk-label input.sk-toggleable__control:checked~label.sk-toggleable__label {background-color: #d4ebff;}#sk-container-id-6 input.sk-hidden--visually {border: 0;clip: rect(1px 1px 1px 1px);clip: rect(1px, 1px, 1px, 1px);height: 1px;margin: -1px;overflow: hidden;padding: 0;position: absolute;width: 1px;}#sk-container-id-6 div.sk-estimator {font-family: monospace;background-color: #f0f8ff;border: 1px dotted black;border-radius: 0.25em;box-sizing: border-box;margin-bottom: 0.5em;}#sk-container-id-6 div.sk-estimator:hover {background-color: #d4ebff;}#sk-container-id-6 div.sk-parallel-item::after {content: \"\";width: 100%;border-bottom: 1px solid gray;flex-grow: 1;}#sk-container-id-6 div.sk-label:hover label.sk-toggleable__label {background-color: #d4ebff;}#sk-container-id-6 div.sk-serial::before {content: \"\";position: absolute;border-left: 1px solid gray;box-sizing: border-box;top: 0;bottom: 0;left: 50%;z-index: 0;}#sk-container-id-6 div.sk-serial {display: flex;flex-direction: column;align-items: center;background-color: white;padding-right: 0.2em;padding-left: 0.2em;position: relative;}#sk-container-id-6 div.sk-item {position: relative;z-index: 1;}#sk-container-id-6 div.sk-parallel {display: flex;align-items: stretch;justify-content: center;background-color: white;position: relative;}#sk-container-id-6 div.sk-item::before, #sk-container-id-6 div.sk-parallel-item::before {content: \"\";position: absolute;border-left: 1px solid gray;box-sizing: border-box;top: 0;bottom: 0;left: 50%;z-index: -1;}#sk-container-id-6 div.sk-parallel-item {display: flex;flex-direction: column;z-index: 1;position: relative;background-color: white;}#sk-container-id-6 div.sk-parallel-item:first-child::after {align-self: flex-end;width: 50%;}#sk-container-id-6 div.sk-parallel-item:last-child::after {align-self: flex-start;width: 50%;}#sk-container-id-6 div.sk-parallel-item:only-child::after {width: 0;}#sk-container-id-6 div.sk-dashed-wrapped {border: 1px dashed gray;margin: 0 0.4em 0.5em 0.4em;box-sizing: border-box;padding-bottom: 0.4em;background-color: white;}#sk-container-id-6 div.sk-label label {font-family: monospace;font-weight: bold;display: inline-block;line-height: 1.2em;}#sk-container-id-6 div.sk-label-container {text-align: center;}#sk-container-id-6 div.sk-container {/* jupyter's `normalize.less` sets `[hidden] { display: none; }` but bootstrap.min.css set `[hidden] { display: none !important; }` so we also need the `!important` here to be able to override the default hidden behavior on the sphinx rendered scikit-learn.org. See: https://github.com/scikit-learn/scikit-learn/issues/21755 */display: inline-block !important;position: relative;}#sk-container-id-6 div.sk-text-repr-fallback {display: none;}</style><div id=\"sk-container-id-6\" class=\"sk-top-container\"><div class=\"sk-text-repr-fallback\"><pre>GaussianNB()</pre><b>In a Jupyter environment, please rerun this cell to show the HTML representation or trust the notebook. <br />On GitHub, the HTML representation is unable to render, please try loading this page with nbviewer.org.</b></div><div class=\"sk-container\" hidden><div class=\"sk-item\"><div class=\"sk-estimator sk-toggleable\"><input class=\"sk-toggleable__control sk-hidden--visually\" id=\"sk-estimator-id-6\" type=\"checkbox\" checked><label for=\"sk-estimator-id-6\" class=\"sk-toggleable__label sk-toggleable__label-arrow\">GaussianNB</label><div class=\"sk-toggleable__content\"><pre>GaussianNB()</pre></div></div></div></div></div>"
            ]
          },
          "metadata": {},
          "execution_count": 51
        }
      ]
    },
    {
      "cell_type": "code",
      "source": [
        "#Now we will use Gradient boosting classifier\n",
        "\n",
        "from sklearn.ensemble import GradientBoostingClassifier\n",
        "\n",
        "model = GradientBoostingClassifier()\n",
        "model.fit(X_train, y_train)"
      ],
      "metadata": {
        "colab": {
          "base_uri": "https://localhost:8080/",
          "height": 74
        },
        "id": "xi92RGh74_ne",
        "outputId": "f452c2f6-5ecd-4cb0-b77b-6afa31d87f3b"
      },
      "execution_count": 52,
      "outputs": [
        {
          "output_type": "execute_result",
          "data": {
            "text/plain": [
              "GradientBoostingClassifier()"
            ],
            "text/html": [
              "<style>#sk-container-id-7 {color: black;background-color: white;}#sk-container-id-7 pre{padding: 0;}#sk-container-id-7 div.sk-toggleable {background-color: white;}#sk-container-id-7 label.sk-toggleable__label {cursor: pointer;display: block;width: 100%;margin-bottom: 0;padding: 0.3em;box-sizing: border-box;text-align: center;}#sk-container-id-7 label.sk-toggleable__label-arrow:before {content: \"▸\";float: left;margin-right: 0.25em;color: #696969;}#sk-container-id-7 label.sk-toggleable__label-arrow:hover:before {color: black;}#sk-container-id-7 div.sk-estimator:hover label.sk-toggleable__label-arrow:before {color: black;}#sk-container-id-7 div.sk-toggleable__content {max-height: 0;max-width: 0;overflow: hidden;text-align: left;background-color: #f0f8ff;}#sk-container-id-7 div.sk-toggleable__content pre {margin: 0.2em;color: black;border-radius: 0.25em;background-color: #f0f8ff;}#sk-container-id-7 input.sk-toggleable__control:checked~div.sk-toggleable__content {max-height: 200px;max-width: 100%;overflow: auto;}#sk-container-id-7 input.sk-toggleable__control:checked~label.sk-toggleable__label-arrow:before {content: \"▾\";}#sk-container-id-7 div.sk-estimator input.sk-toggleable__control:checked~label.sk-toggleable__label {background-color: #d4ebff;}#sk-container-id-7 div.sk-label input.sk-toggleable__control:checked~label.sk-toggleable__label {background-color: #d4ebff;}#sk-container-id-7 input.sk-hidden--visually {border: 0;clip: rect(1px 1px 1px 1px);clip: rect(1px, 1px, 1px, 1px);height: 1px;margin: -1px;overflow: hidden;padding: 0;position: absolute;width: 1px;}#sk-container-id-7 div.sk-estimator {font-family: monospace;background-color: #f0f8ff;border: 1px dotted black;border-radius: 0.25em;box-sizing: border-box;margin-bottom: 0.5em;}#sk-container-id-7 div.sk-estimator:hover {background-color: #d4ebff;}#sk-container-id-7 div.sk-parallel-item::after {content: \"\";width: 100%;border-bottom: 1px solid gray;flex-grow: 1;}#sk-container-id-7 div.sk-label:hover label.sk-toggleable__label {background-color: #d4ebff;}#sk-container-id-7 div.sk-serial::before {content: \"\";position: absolute;border-left: 1px solid gray;box-sizing: border-box;top: 0;bottom: 0;left: 50%;z-index: 0;}#sk-container-id-7 div.sk-serial {display: flex;flex-direction: column;align-items: center;background-color: white;padding-right: 0.2em;padding-left: 0.2em;position: relative;}#sk-container-id-7 div.sk-item {position: relative;z-index: 1;}#sk-container-id-7 div.sk-parallel {display: flex;align-items: stretch;justify-content: center;background-color: white;position: relative;}#sk-container-id-7 div.sk-item::before, #sk-container-id-7 div.sk-parallel-item::before {content: \"\";position: absolute;border-left: 1px solid gray;box-sizing: border-box;top: 0;bottom: 0;left: 50%;z-index: -1;}#sk-container-id-7 div.sk-parallel-item {display: flex;flex-direction: column;z-index: 1;position: relative;background-color: white;}#sk-container-id-7 div.sk-parallel-item:first-child::after {align-self: flex-end;width: 50%;}#sk-container-id-7 div.sk-parallel-item:last-child::after {align-self: flex-start;width: 50%;}#sk-container-id-7 div.sk-parallel-item:only-child::after {width: 0;}#sk-container-id-7 div.sk-dashed-wrapped {border: 1px dashed gray;margin: 0 0.4em 0.5em 0.4em;box-sizing: border-box;padding-bottom: 0.4em;background-color: white;}#sk-container-id-7 div.sk-label label {font-family: monospace;font-weight: bold;display: inline-block;line-height: 1.2em;}#sk-container-id-7 div.sk-label-container {text-align: center;}#sk-container-id-7 div.sk-container {/* jupyter's `normalize.less` sets `[hidden] { display: none; }` but bootstrap.min.css set `[hidden] { display: none !important; }` so we also need the `!important` here to be able to override the default hidden behavior on the sphinx rendered scikit-learn.org. See: https://github.com/scikit-learn/scikit-learn/issues/21755 */display: inline-block !important;position: relative;}#sk-container-id-7 div.sk-text-repr-fallback {display: none;}</style><div id=\"sk-container-id-7\" class=\"sk-top-container\"><div class=\"sk-text-repr-fallback\"><pre>GradientBoostingClassifier()</pre><b>In a Jupyter environment, please rerun this cell to show the HTML representation or trust the notebook. <br />On GitHub, the HTML representation is unable to render, please try loading this page with nbviewer.org.</b></div><div class=\"sk-container\" hidden><div class=\"sk-item\"><div class=\"sk-estimator sk-toggleable\"><input class=\"sk-toggleable__control sk-hidden--visually\" id=\"sk-estimator-id-7\" type=\"checkbox\" checked><label for=\"sk-estimator-id-7\" class=\"sk-toggleable__label sk-toggleable__label-arrow\">GradientBoostingClassifier</label><div class=\"sk-toggleable__content\"><pre>GradientBoostingClassifier()</pre></div></div></div></div></div>"
            ]
          },
          "metadata": {},
          "execution_count": 52
        }
      ]
    },
    {
      "cell_type": "code",
      "source": [
        "score = model.score(X_test,y_test)\n",
        "print(score)"
      ],
      "metadata": {
        "colab": {
          "base_uri": "https://localhost:8080/"
        },
        "id": "SMiFim3o6GL0",
        "outputId": "a7170506-7142-45be-930b-64e0d7ddd06c"
      },
      "execution_count": 53,
      "outputs": [
        {
          "output_type": "stream",
          "name": "stdout",
          "text": [
            "0.8126\n"
          ]
        }
      ]
    },
    {
      "cell_type": "code",
      "source": [
        "#Let's try xgboost\n",
        "\n",
        "import xgboost as xgb\n",
        "\n",
        "\n",
        "dtrain = xgb.DMatrix(X_train, label=y_train)\n",
        "\n",
        "dtest = xgb.DMatrix(X_test, label=y_test)"
      ],
      "metadata": {
        "id": "GlGItkQI7U8E"
      },
      "execution_count": 55,
      "outputs": []
    },
    {
      "cell_type": "code",
      "source": [
        "# Set parameters for XGBoost\n",
        "params = {\n",
        "    'objective': 'multi:softmax',  # Multiclass classification\n",
        "    'num_class': len(np.unique(y_train)),  # Number of classes\n",
        "    'eval_metric': 'merror'  # Evaluation metric\n",
        "}"
      ],
      "metadata": {
        "id": "jnq9TUno7rQ6"
      },
      "execution_count": 56,
      "outputs": []
    },
    {
      "cell_type": "code",
      "source": [
        "# Train XGBoost model\n",
        "xgb_model = xgb.train(params, dtrain)"
      ],
      "metadata": {
        "id": "LsfpBp3-79IO"
      },
      "execution_count": 57,
      "outputs": []
    },
    {
      "cell_type": "code",
      "source": [
        "# Predict on the test set\n",
        "y_pred_xgb = xgb_model.predict(dtest)"
      ],
      "metadata": {
        "id": "tI7zlvqp8B2I"
      },
      "execution_count": 58,
      "outputs": []
    },
    {
      "cell_type": "code",
      "source": [
        "from sklearn.metrics import accuracy_score\n",
        "score = accuracy_score(y_test, y_pred_xgb)\n",
        "print(score)"
      ],
      "metadata": {
        "colab": {
          "base_uri": "https://localhost:8080/"
        },
        "id": "t5b3Vopf8Jkc",
        "outputId": "fa652be0-98dc-4f21-b8be-533d5c518e38"
      },
      "execution_count": 60,
      "outputs": [
        {
          "output_type": "stream",
          "name": "stdout",
          "text": [
            "0.7831\n"
          ]
        }
      ]
    },
    {
      "cell_type": "code",
      "source": [
        "!pip install catboost\n"
      ],
      "metadata": {
        "colab": {
          "base_uri": "https://localhost:8080/"
        },
        "id": "LEMu_9Oh8kM_",
        "outputId": "ff5f1694-2b8e-4c2a-ff31-4ee3a4eaa132"
      },
      "execution_count": 62,
      "outputs": [
        {
          "output_type": "stream",
          "name": "stdout",
          "text": [
            "Collecting catboost\n",
            "  Downloading catboost-1.2.3-cp310-cp310-manylinux2014_x86_64.whl (98.5 MB)\n",
            "\u001b[2K     \u001b[90m━━━━━━━━━━━━━━━━━━━━━━━━━━━━━━━━━━━━━━━━\u001b[0m \u001b[32m98.5/98.5 MB\u001b[0m \u001b[31m16.7 MB/s\u001b[0m eta \u001b[36m0:00:00\u001b[0m\n",
            "\u001b[?25hRequirement already satisfied: graphviz in /usr/local/lib/python3.10/dist-packages (from catboost) (0.20.1)\n",
            "Requirement already satisfied: matplotlib in /usr/local/lib/python3.10/dist-packages (from catboost) (3.7.1)\n",
            "Requirement already satisfied: numpy>=1.16.0 in /usr/local/lib/python3.10/dist-packages (from catboost) (1.25.2)\n",
            "Requirement already satisfied: pandas>=0.24 in /usr/local/lib/python3.10/dist-packages (from catboost) (1.5.3)\n",
            "Requirement already satisfied: scipy in /usr/local/lib/python3.10/dist-packages (from catboost) (1.11.4)\n",
            "Requirement already satisfied: plotly in /usr/local/lib/python3.10/dist-packages (from catboost) (5.15.0)\n",
            "Requirement already satisfied: six in /usr/local/lib/python3.10/dist-packages (from catboost) (1.16.0)\n",
            "Requirement already satisfied: python-dateutil>=2.8.1 in /usr/local/lib/python3.10/dist-packages (from pandas>=0.24->catboost) (2.8.2)\n",
            "Requirement already satisfied: pytz>=2020.1 in /usr/local/lib/python3.10/dist-packages (from pandas>=0.24->catboost) (2023.4)\n",
            "Requirement already satisfied: contourpy>=1.0.1 in /usr/local/lib/python3.10/dist-packages (from matplotlib->catboost) (1.2.0)\n",
            "Requirement already satisfied: cycler>=0.10 in /usr/local/lib/python3.10/dist-packages (from matplotlib->catboost) (0.12.1)\n",
            "Requirement already satisfied: fonttools>=4.22.0 in /usr/local/lib/python3.10/dist-packages (from matplotlib->catboost) (4.49.0)\n",
            "Requirement already satisfied: kiwisolver>=1.0.1 in /usr/local/lib/python3.10/dist-packages (from matplotlib->catboost) (1.4.5)\n",
            "Requirement already satisfied: packaging>=20.0 in /usr/local/lib/python3.10/dist-packages (from matplotlib->catboost) (23.2)\n",
            "Requirement already satisfied: pillow>=6.2.0 in /usr/local/lib/python3.10/dist-packages (from matplotlib->catboost) (9.4.0)\n",
            "Requirement already satisfied: pyparsing>=2.3.1 in /usr/local/lib/python3.10/dist-packages (from matplotlib->catboost) (3.1.2)\n",
            "Requirement already satisfied: tenacity>=6.2.0 in /usr/local/lib/python3.10/dist-packages (from plotly->catboost) (8.2.3)\n",
            "Installing collected packages: catboost\n",
            "Successfully installed catboost-1.2.3\n"
          ]
        }
      ]
    },
    {
      "cell_type": "code",
      "source": [
        "from catboost import CatBoostClassifier\n",
        "\n",
        "# Initialize CatBoost classifier\n",
        "catboost_model = CatBoostClassifier()"
      ],
      "metadata": {
        "id": "xp1j0Ccs8MD5"
      },
      "execution_count": 63,
      "outputs": []
    },
    {
      "cell_type": "code",
      "source": [
        "# Train the classifier\n",
        "catboost_model.fit(X_train, y_train)\n",
        "\n",
        "# Predict on the test set\n",
        "y_pred_catboost = catboost_model.predict(X_test)\n",
        "\n",
        "# Calculate accuracy\n",
        "accuracy_catboost = accuracy_score(y_test, y_pred_catboost)\n",
        "print(\"CatBoost Accuracy:\", accuracy_catboost)"
      ],
      "metadata": {
        "colab": {
          "base_uri": "https://localhost:8080/"
        },
        "id": "bJyKhq2V8eBU",
        "outputId": "615961d1-2ace-48c4-f20b-db49e6042959"
      },
      "execution_count": 64,
      "outputs": [
        {
          "output_type": "stream",
          "name": "stdout",
          "text": [
            "Learning rate set to 0.049775\n",
            "0:\tlearn: 0.6785275\ttotal: 307ms\tremaining: 5m 6s\n",
            "1:\tlearn: 0.6657057\ttotal: 541ms\tremaining: 4m 30s\n",
            "2:\tlearn: 0.6532913\ttotal: 776ms\tremaining: 4m 17s\n",
            "3:\tlearn: 0.6429770\ttotal: 1.01s\tremaining: 4m 12s\n",
            "4:\tlearn: 0.6338264\ttotal: 1.25s\tremaining: 4m 8s\n",
            "5:\tlearn: 0.6257367\ttotal: 1.48s\tremaining: 4m 5s\n",
            "6:\tlearn: 0.6182079\ttotal: 1.71s\tremaining: 4m 2s\n",
            "7:\tlearn: 0.6114263\ttotal: 1.95s\tremaining: 4m 1s\n",
            "8:\tlearn: 0.6057340\ttotal: 2.2s\tremaining: 4m 2s\n",
            "9:\tlearn: 0.5994693\ttotal: 2.46s\tremaining: 4m 3s\n",
            "10:\tlearn: 0.5940500\ttotal: 2.71s\tremaining: 4m 3s\n",
            "11:\tlearn: 0.5895977\ttotal: 2.96s\tremaining: 4m 3s\n",
            "12:\tlearn: 0.5851336\ttotal: 3.2s\tremaining: 4m 2s\n",
            "13:\tlearn: 0.5806286\ttotal: 3.45s\tremaining: 4m 2s\n",
            "14:\tlearn: 0.5766448\ttotal: 3.69s\tremaining: 4m 2s\n",
            "15:\tlearn: 0.5730051\ttotal: 3.94s\tremaining: 4m 2s\n",
            "16:\tlearn: 0.5696248\ttotal: 4.2s\tremaining: 4m 2s\n",
            "17:\tlearn: 0.5660673\ttotal: 4.44s\tremaining: 4m 2s\n",
            "18:\tlearn: 0.5629100\ttotal: 4.67s\tremaining: 4m\n",
            "19:\tlearn: 0.5596324\ttotal: 4.88s\tremaining: 3m 59s\n",
            "20:\tlearn: 0.5566564\ttotal: 5.12s\tremaining: 3m 58s\n",
            "21:\tlearn: 0.5536972\ttotal: 5.34s\tremaining: 3m 57s\n",
            "22:\tlearn: 0.5510073\ttotal: 5.57s\tremaining: 3m 56s\n",
            "23:\tlearn: 0.5485338\ttotal: 5.78s\tremaining: 3m 54s\n",
            "24:\tlearn: 0.5459953\ttotal: 6s\tremaining: 3m 53s\n",
            "25:\tlearn: 0.5436249\ttotal: 6.23s\tremaining: 3m 53s\n",
            "26:\tlearn: 0.5412810\ttotal: 6.43s\tremaining: 3m 51s\n",
            "27:\tlearn: 0.5388232\ttotal: 6.67s\tremaining: 3m 51s\n",
            "28:\tlearn: 0.5363102\ttotal: 6.88s\tremaining: 3m 50s\n",
            "29:\tlearn: 0.5341450\ttotal: 7.11s\tremaining: 3m 49s\n",
            "30:\tlearn: 0.5320753\ttotal: 7.34s\tremaining: 3m 49s\n",
            "31:\tlearn: 0.5299189\ttotal: 7.57s\tremaining: 3m 48s\n",
            "32:\tlearn: 0.5278775\ttotal: 7.79s\tremaining: 3m 48s\n",
            "33:\tlearn: 0.5258177\ttotal: 8s\tremaining: 3m 47s\n",
            "34:\tlearn: 0.5236833\ttotal: 8.23s\tremaining: 3m 46s\n",
            "35:\tlearn: 0.5216022\ttotal: 8.45s\tremaining: 3m 46s\n",
            "36:\tlearn: 0.5195887\ttotal: 8.66s\tremaining: 3m 45s\n",
            "37:\tlearn: 0.5177479\ttotal: 8.87s\tremaining: 3m 44s\n",
            "38:\tlearn: 0.5160292\ttotal: 9.09s\tremaining: 3m 44s\n",
            "39:\tlearn: 0.5140418\ttotal: 9.33s\tremaining: 3m 43s\n",
            "40:\tlearn: 0.5123001\ttotal: 9.54s\tremaining: 3m 43s\n",
            "41:\tlearn: 0.5106733\ttotal: 9.75s\tremaining: 3m 42s\n",
            "42:\tlearn: 0.5090357\ttotal: 9.97s\tremaining: 3m 41s\n",
            "43:\tlearn: 0.5074802\ttotal: 10.2s\tremaining: 3m 41s\n",
            "44:\tlearn: 0.5060179\ttotal: 10.4s\tremaining: 3m 40s\n",
            "45:\tlearn: 0.5045749\ttotal: 10.6s\tremaining: 3m 40s\n",
            "46:\tlearn: 0.5030764\ttotal: 10.9s\tremaining: 3m 40s\n",
            "47:\tlearn: 0.5016138\ttotal: 11.1s\tremaining: 3m 39s\n",
            "48:\tlearn: 0.5001057\ttotal: 11.3s\tremaining: 3m 39s\n",
            "49:\tlearn: 0.4987054\ttotal: 11.5s\tremaining: 3m 38s\n",
            "50:\tlearn: 0.4972525\ttotal: 11.7s\tremaining: 3m 38s\n",
            "51:\tlearn: 0.4959224\ttotal: 12s\tremaining: 3m 38s\n",
            "52:\tlearn: 0.4944941\ttotal: 12.2s\tremaining: 3m 38s\n",
            "53:\tlearn: 0.4932058\ttotal: 12.4s\tremaining: 3m 37s\n",
            "54:\tlearn: 0.4918955\ttotal: 12.7s\tremaining: 3m 37s\n",
            "55:\tlearn: 0.4907160\ttotal: 12.9s\tremaining: 3m 37s\n",
            "56:\tlearn: 0.4895985\ttotal: 13.1s\tremaining: 3m 37s\n",
            "57:\tlearn: 0.4881949\ttotal: 13.4s\tremaining: 3m 36s\n",
            "58:\tlearn: 0.4869769\ttotal: 13.6s\tremaining: 3m 36s\n",
            "59:\tlearn: 0.4856272\ttotal: 13.8s\tremaining: 3m 36s\n",
            "60:\tlearn: 0.4844930\ttotal: 14s\tremaining: 3m 35s\n",
            "61:\tlearn: 0.4832453\ttotal: 14.3s\tremaining: 3m 35s\n",
            "62:\tlearn: 0.4822576\ttotal: 14.5s\tremaining: 3m 35s\n",
            "63:\tlearn: 0.4812455\ttotal: 14.7s\tremaining: 3m 35s\n",
            "64:\tlearn: 0.4801011\ttotal: 15s\tremaining: 3m 35s\n",
            "65:\tlearn: 0.4790810\ttotal: 15.2s\tremaining: 3m 35s\n",
            "66:\tlearn: 0.4777655\ttotal: 15.4s\tremaining: 3m 35s\n",
            "67:\tlearn: 0.4766975\ttotal: 15.7s\tremaining: 3m 35s\n",
            "68:\tlearn: 0.4756353\ttotal: 15.9s\tremaining: 3m 34s\n",
            "69:\tlearn: 0.4745657\ttotal: 16.2s\tremaining: 3m 34s\n",
            "70:\tlearn: 0.4735399\ttotal: 16.4s\tremaining: 3m 34s\n",
            "71:\tlearn: 0.4724832\ttotal: 16.7s\tremaining: 3m 35s\n",
            "72:\tlearn: 0.4714394\ttotal: 16.9s\tremaining: 3m 34s\n",
            "73:\tlearn: 0.4704320\ttotal: 17.2s\tremaining: 3m 34s\n",
            "74:\tlearn: 0.4694182\ttotal: 17.4s\tremaining: 3m 34s\n",
            "75:\tlearn: 0.4685232\ttotal: 17.6s\tremaining: 3m 34s\n",
            "76:\tlearn: 0.4675433\ttotal: 17.8s\tremaining: 3m 33s\n",
            "77:\tlearn: 0.4665336\ttotal: 18s\tremaining: 3m 33s\n",
            "78:\tlearn: 0.4656037\ttotal: 18.3s\tremaining: 3m 32s\n",
            "79:\tlearn: 0.4646665\ttotal: 18.5s\tremaining: 3m 32s\n",
            "80:\tlearn: 0.4638120\ttotal: 18.7s\tremaining: 3m 32s\n",
            "81:\tlearn: 0.4628785\ttotal: 18.9s\tremaining: 3m 31s\n",
            "82:\tlearn: 0.4619106\ttotal: 19.1s\tremaining: 3m 31s\n",
            "83:\tlearn: 0.4610498\ttotal: 19.4s\tremaining: 3m 31s\n",
            "84:\tlearn: 0.4601484\ttotal: 19.6s\tremaining: 3m 31s\n",
            "85:\tlearn: 0.4593207\ttotal: 19.9s\tremaining: 3m 31s\n",
            "86:\tlearn: 0.4584665\ttotal: 20.1s\tremaining: 3m 30s\n",
            "87:\tlearn: 0.4576090\ttotal: 20.3s\tremaining: 3m 30s\n",
            "88:\tlearn: 0.4567765\ttotal: 20.5s\tremaining: 3m 29s\n",
            "89:\tlearn: 0.4559702\ttotal: 20.7s\tremaining: 3m 29s\n",
            "90:\tlearn: 0.4551615\ttotal: 21s\tremaining: 3m 29s\n",
            "91:\tlearn: 0.4543373\ttotal: 21.2s\tremaining: 3m 29s\n",
            "92:\tlearn: 0.4534892\ttotal: 21.4s\tremaining: 3m 28s\n",
            "93:\tlearn: 0.4526537\ttotal: 21.6s\tremaining: 3m 28s\n",
            "94:\tlearn: 0.4519036\ttotal: 21.8s\tremaining: 3m 28s\n",
            "95:\tlearn: 0.4511036\ttotal: 22.1s\tremaining: 3m 27s\n",
            "96:\tlearn: 0.4505270\ttotal: 22.3s\tremaining: 3m 27s\n",
            "97:\tlearn: 0.4497779\ttotal: 22.5s\tremaining: 3m 27s\n",
            "98:\tlearn: 0.4490230\ttotal: 22.7s\tremaining: 3m 26s\n",
            "99:\tlearn: 0.4482533\ttotal: 22.9s\tremaining: 3m 26s\n",
            "100:\tlearn: 0.4473970\ttotal: 23.1s\tremaining: 3m 26s\n",
            "101:\tlearn: 0.4466578\ttotal: 23.4s\tremaining: 3m 25s\n",
            "102:\tlearn: 0.4459199\ttotal: 23.6s\tremaining: 3m 25s\n",
            "103:\tlearn: 0.4451542\ttotal: 23.8s\tremaining: 3m 25s\n",
            "104:\tlearn: 0.4443964\ttotal: 24.1s\tremaining: 3m 25s\n",
            "105:\tlearn: 0.4437276\ttotal: 24.3s\tremaining: 3m 24s\n",
            "106:\tlearn: 0.4430491\ttotal: 24.5s\tremaining: 3m 24s\n",
            "107:\tlearn: 0.4423195\ttotal: 24.7s\tremaining: 3m 24s\n",
            "108:\tlearn: 0.4417663\ttotal: 25s\tremaining: 3m 24s\n",
            "109:\tlearn: 0.4411057\ttotal: 25.2s\tremaining: 3m 23s\n",
            "110:\tlearn: 0.4403188\ttotal: 25.4s\tremaining: 3m 23s\n",
            "111:\tlearn: 0.4395956\ttotal: 25.6s\tremaining: 3m 23s\n",
            "112:\tlearn: 0.4389205\ttotal: 25.9s\tremaining: 3m 23s\n",
            "113:\tlearn: 0.4382214\ttotal: 26.1s\tremaining: 3m 22s\n",
            "114:\tlearn: 0.4376173\ttotal: 26.3s\tremaining: 3m 22s\n",
            "115:\tlearn: 0.4369727\ttotal: 26.6s\tremaining: 3m 22s\n",
            "116:\tlearn: 0.4363626\ttotal: 26.8s\tremaining: 3m 22s\n",
            "117:\tlearn: 0.4357009\ttotal: 27s\tremaining: 3m 21s\n",
            "118:\tlearn: 0.4349922\ttotal: 27.2s\tremaining: 3m 21s\n",
            "119:\tlearn: 0.4343957\ttotal: 27.5s\tremaining: 3m 21s\n",
            "120:\tlearn: 0.4337292\ttotal: 27.7s\tremaining: 3m 21s\n",
            "121:\tlearn: 0.4330814\ttotal: 28s\tremaining: 3m 21s\n",
            "122:\tlearn: 0.4324484\ttotal: 28.2s\tremaining: 3m 20s\n",
            "123:\tlearn: 0.4318469\ttotal: 28.4s\tremaining: 3m 20s\n",
            "124:\tlearn: 0.4311389\ttotal: 28.7s\tremaining: 3m 20s\n",
            "125:\tlearn: 0.4306001\ttotal: 28.9s\tremaining: 3m 20s\n",
            "126:\tlearn: 0.4299521\ttotal: 29.1s\tremaining: 3m 20s\n",
            "127:\tlearn: 0.4293257\ttotal: 29.4s\tremaining: 3m 20s\n",
            "128:\tlearn: 0.4286985\ttotal: 29.6s\tremaining: 3m 19s\n",
            "129:\tlearn: 0.4281465\ttotal: 29.8s\tremaining: 3m 19s\n",
            "130:\tlearn: 0.4276034\ttotal: 30s\tremaining: 3m 19s\n",
            "131:\tlearn: 0.4270650\ttotal: 30.3s\tremaining: 3m 18s\n",
            "132:\tlearn: 0.4264878\ttotal: 30.5s\tremaining: 3m 18s\n",
            "133:\tlearn: 0.4259150\ttotal: 30.7s\tremaining: 3m 18s\n",
            "134:\tlearn: 0.4253562\ttotal: 30.9s\tremaining: 3m 18s\n",
            "135:\tlearn: 0.4248250\ttotal: 31.1s\tremaining: 3m 17s\n",
            "136:\tlearn: 0.4242576\ttotal: 31.3s\tremaining: 3m 17s\n",
            "137:\tlearn: 0.4237463\ttotal: 31.6s\tremaining: 3m 17s\n",
            "138:\tlearn: 0.4231304\ttotal: 31.8s\tremaining: 3m 16s\n",
            "139:\tlearn: 0.4225970\ttotal: 32s\tremaining: 3m 16s\n",
            "140:\tlearn: 0.4220318\ttotal: 32.2s\tremaining: 3m 16s\n",
            "141:\tlearn: 0.4215370\ttotal: 32.5s\tremaining: 3m 16s\n",
            "142:\tlearn: 0.4210157\ttotal: 32.7s\tremaining: 3m 15s\n",
            "143:\tlearn: 0.4205341\ttotal: 32.9s\tremaining: 3m 15s\n",
            "144:\tlearn: 0.4200930\ttotal: 33.1s\tremaining: 3m 15s\n",
            "145:\tlearn: 0.4196238\ttotal: 33.3s\tremaining: 3m 14s\n",
            "146:\tlearn: 0.4191005\ttotal: 33.5s\tremaining: 3m 14s\n",
            "147:\tlearn: 0.4185493\ttotal: 33.7s\tremaining: 3m 14s\n",
            "148:\tlearn: 0.4180428\ttotal: 34s\tremaining: 3m 13s\n",
            "149:\tlearn: 0.4174709\ttotal: 34.2s\tremaining: 3m 13s\n",
            "150:\tlearn: 0.4169809\ttotal: 34.4s\tremaining: 3m 13s\n",
            "151:\tlearn: 0.4164961\ttotal: 34.6s\tremaining: 3m 13s\n",
            "152:\tlearn: 0.4160280\ttotal: 34.9s\tremaining: 3m 12s\n",
            "153:\tlearn: 0.4155266\ttotal: 35.1s\tremaining: 3m 12s\n",
            "154:\tlearn: 0.4150263\ttotal: 35.3s\tremaining: 3m 12s\n",
            "155:\tlearn: 0.4145116\ttotal: 35.5s\tremaining: 3m 12s\n",
            "156:\tlearn: 0.4140447\ttotal: 35.7s\tremaining: 3m 11s\n",
            "157:\tlearn: 0.4135610\ttotal: 35.9s\tremaining: 3m 11s\n",
            "158:\tlearn: 0.4130864\ttotal: 36.2s\tremaining: 3m 11s\n",
            "159:\tlearn: 0.4125602\ttotal: 36.4s\tremaining: 3m 11s\n",
            "160:\tlearn: 0.4119886\ttotal: 36.6s\tremaining: 3m 10s\n",
            "161:\tlearn: 0.4115334\ttotal: 36.8s\tremaining: 3m 10s\n",
            "162:\tlearn: 0.4110421\ttotal: 37s\tremaining: 3m 10s\n",
            "163:\tlearn: 0.4106175\ttotal: 37.3s\tremaining: 3m 9s\n",
            "164:\tlearn: 0.4101811\ttotal: 37.5s\tremaining: 3m 9s\n",
            "165:\tlearn: 0.4097010\ttotal: 37.7s\tremaining: 3m 9s\n",
            "166:\tlearn: 0.4091937\ttotal: 37.9s\tremaining: 3m 9s\n",
            "167:\tlearn: 0.4087616\ttotal: 38.2s\tremaining: 3m 8s\n",
            "168:\tlearn: 0.4082516\ttotal: 38.4s\tremaining: 3m 8s\n",
            "169:\tlearn: 0.4078112\ttotal: 38.6s\tremaining: 3m 8s\n",
            "170:\tlearn: 0.4074003\ttotal: 38.8s\tremaining: 3m 8s\n",
            "171:\tlearn: 0.4069552\ttotal: 39s\tremaining: 3m 7s\n",
            "172:\tlearn: 0.4065416\ttotal: 39.2s\tremaining: 3m 7s\n",
            "173:\tlearn: 0.4060687\ttotal: 39.5s\tremaining: 3m 7s\n",
            "174:\tlearn: 0.4056728\ttotal: 39.7s\tremaining: 3m 7s\n",
            "175:\tlearn: 0.4052549\ttotal: 39.9s\tremaining: 3m 6s\n",
            "176:\tlearn: 0.4048451\ttotal: 40.2s\tremaining: 3m 6s\n",
            "177:\tlearn: 0.4043992\ttotal: 40.4s\tremaining: 3m 6s\n",
            "178:\tlearn: 0.4039792\ttotal: 40.6s\tremaining: 3m 6s\n",
            "179:\tlearn: 0.4035586\ttotal: 40.9s\tremaining: 3m 6s\n",
            "180:\tlearn: 0.4031992\ttotal: 41.1s\tremaining: 3m 5s\n",
            "181:\tlearn: 0.4028112\ttotal: 41.3s\tremaining: 3m 5s\n",
            "182:\tlearn: 0.4023815\ttotal: 41.6s\tremaining: 3m 5s\n",
            "183:\tlearn: 0.4019402\ttotal: 41.8s\tremaining: 3m 5s\n",
            "184:\tlearn: 0.4015379\ttotal: 42s\tremaining: 3m 5s\n",
            "185:\tlearn: 0.4011221\ttotal: 42.2s\tremaining: 3m 4s\n",
            "186:\tlearn: 0.4007115\ttotal: 42.4s\tremaining: 3m 4s\n",
            "187:\tlearn: 0.4003569\ttotal: 42.7s\tremaining: 3m 4s\n",
            "188:\tlearn: 0.3999437\ttotal: 42.9s\tremaining: 3m 4s\n",
            "189:\tlearn: 0.3995544\ttotal: 43.1s\tremaining: 3m 3s\n",
            "190:\tlearn: 0.3991441\ttotal: 43.3s\tremaining: 3m 3s\n",
            "191:\tlearn: 0.3987054\ttotal: 43.5s\tremaining: 3m 3s\n",
            "192:\tlearn: 0.3983044\ttotal: 43.7s\tremaining: 3m 2s\n",
            "193:\tlearn: 0.3979061\ttotal: 44s\tremaining: 3m 2s\n",
            "194:\tlearn: 0.3975319\ttotal: 44.2s\tremaining: 3m 2s\n",
            "195:\tlearn: 0.3970802\ttotal: 44.4s\tremaining: 3m 2s\n",
            "196:\tlearn: 0.3967138\ttotal: 44.6s\tremaining: 3m 1s\n",
            "197:\tlearn: 0.3963296\ttotal: 44.8s\tremaining: 3m 1s\n",
            "198:\tlearn: 0.3959788\ttotal: 45s\tremaining: 3m 1s\n",
            "199:\tlearn: 0.3955930\ttotal: 45.2s\tremaining: 3m\n",
            "200:\tlearn: 0.3952432\ttotal: 45.4s\tremaining: 3m\n",
            "201:\tlearn: 0.3948776\ttotal: 45.7s\tremaining: 3m\n",
            "202:\tlearn: 0.3944491\ttotal: 45.9s\tremaining: 3m\n",
            "203:\tlearn: 0.3940957\ttotal: 46.1s\tremaining: 2m 59s\n",
            "204:\tlearn: 0.3937072\ttotal: 46.3s\tremaining: 2m 59s\n",
            "205:\tlearn: 0.3933352\ttotal: 46.5s\tremaining: 2m 59s\n",
            "206:\tlearn: 0.3929838\ttotal: 46.7s\tremaining: 2m 59s\n",
            "207:\tlearn: 0.3926046\ttotal: 47s\tremaining: 2m 58s\n",
            "208:\tlearn: 0.3922425\ttotal: 47.2s\tremaining: 2m 58s\n",
            "209:\tlearn: 0.3918653\ttotal: 47.4s\tremaining: 2m 58s\n",
            "210:\tlearn: 0.3914791\ttotal: 47.6s\tremaining: 2m 58s\n",
            "211:\tlearn: 0.3911215\ttotal: 47.8s\tremaining: 2m 57s\n",
            "212:\tlearn: 0.3907603\ttotal: 48.1s\tremaining: 2m 57s\n",
            "213:\tlearn: 0.3903783\ttotal: 48.3s\tremaining: 2m 57s\n",
            "214:\tlearn: 0.3900139\ttotal: 48.5s\tremaining: 2m 57s\n",
            "215:\tlearn: 0.3896840\ttotal: 48.7s\tremaining: 2m 56s\n",
            "216:\tlearn: 0.3893149\ttotal: 49s\tremaining: 2m 56s\n",
            "217:\tlearn: 0.3889401\ttotal: 49.2s\tremaining: 2m 56s\n",
            "218:\tlearn: 0.3885908\ttotal: 49.4s\tremaining: 2m 56s\n",
            "219:\tlearn: 0.3882439\ttotal: 49.6s\tremaining: 2m 55s\n",
            "220:\tlearn: 0.3878712\ttotal: 49.9s\tremaining: 2m 55s\n",
            "221:\tlearn: 0.3875139\ttotal: 50.1s\tremaining: 2m 55s\n",
            "222:\tlearn: 0.3871694\ttotal: 50.3s\tremaining: 2m 55s\n",
            "223:\tlearn: 0.3867639\ttotal: 50.5s\tremaining: 2m 54s\n",
            "224:\tlearn: 0.3863492\ttotal: 50.7s\tremaining: 2m 54s\n",
            "225:\tlearn: 0.3860225\ttotal: 50.9s\tremaining: 2m 54s\n",
            "226:\tlearn: 0.3856553\ttotal: 51.1s\tremaining: 2m 54s\n",
            "227:\tlearn: 0.3852869\ttotal: 51.4s\tremaining: 2m 53s\n",
            "228:\tlearn: 0.3848997\ttotal: 51.6s\tremaining: 2m 53s\n",
            "229:\tlearn: 0.3846015\ttotal: 51.8s\tremaining: 2m 53s\n",
            "230:\tlearn: 0.3842574\ttotal: 52s\tremaining: 2m 53s\n",
            "231:\tlearn: 0.3839061\ttotal: 52.3s\tremaining: 2m 53s\n",
            "232:\tlearn: 0.3835522\ttotal: 52.5s\tremaining: 2m 52s\n",
            "233:\tlearn: 0.3831761\ttotal: 52.7s\tremaining: 2m 52s\n",
            "234:\tlearn: 0.3828551\ttotal: 53s\tremaining: 2m 52s\n",
            "235:\tlearn: 0.3825032\ttotal: 53.2s\tremaining: 2m 52s\n",
            "236:\tlearn: 0.3821059\ttotal: 53.4s\tremaining: 2m 52s\n",
            "237:\tlearn: 0.3817588\ttotal: 53.8s\tremaining: 2m 52s\n",
            "238:\tlearn: 0.3814430\ttotal: 54s\tremaining: 2m 52s\n",
            "239:\tlearn: 0.3811163\ttotal: 54.3s\tremaining: 2m 51s\n",
            "240:\tlearn: 0.3807735\ttotal: 54.6s\tremaining: 2m 51s\n",
            "241:\tlearn: 0.3804528\ttotal: 54.8s\tremaining: 2m 51s\n",
            "242:\tlearn: 0.3801029\ttotal: 55s\tremaining: 2m 51s\n",
            "243:\tlearn: 0.3797132\ttotal: 55.3s\tremaining: 2m 51s\n",
            "244:\tlearn: 0.3793771\ttotal: 55.6s\tremaining: 2m 51s\n",
            "245:\tlearn: 0.3790429\ttotal: 55.8s\tremaining: 2m 51s\n",
            "246:\tlearn: 0.3787119\ttotal: 56s\tremaining: 2m 50s\n",
            "247:\tlearn: 0.3783914\ttotal: 56.2s\tremaining: 2m 50s\n",
            "248:\tlearn: 0.3780498\ttotal: 56.4s\tremaining: 2m 50s\n",
            "249:\tlearn: 0.3776948\ttotal: 56.7s\tremaining: 2m 50s\n",
            "250:\tlearn: 0.3773719\ttotal: 56.9s\tremaining: 2m 49s\n",
            "251:\tlearn: 0.3770401\ttotal: 57.1s\tremaining: 2m 49s\n",
            "252:\tlearn: 0.3767020\ttotal: 57.3s\tremaining: 2m 49s\n",
            "253:\tlearn: 0.3763463\ttotal: 57.6s\tremaining: 2m 49s\n",
            "254:\tlearn: 0.3760062\ttotal: 57.8s\tremaining: 2m 48s\n",
            "255:\tlearn: 0.3756921\ttotal: 58s\tremaining: 2m 48s\n",
            "256:\tlearn: 0.3753736\ttotal: 58.2s\tremaining: 2m 48s\n",
            "257:\tlearn: 0.3750640\ttotal: 58.4s\tremaining: 2m 48s\n",
            "258:\tlearn: 0.3747158\ttotal: 58.7s\tremaining: 2m 47s\n",
            "259:\tlearn: 0.3743796\ttotal: 58.9s\tremaining: 2m 47s\n",
            "260:\tlearn: 0.3740335\ttotal: 59.1s\tremaining: 2m 47s\n",
            "261:\tlearn: 0.3737210\ttotal: 59.3s\tremaining: 2m 47s\n",
            "262:\tlearn: 0.3734033\ttotal: 59.5s\tremaining: 2m 46s\n",
            "263:\tlearn: 0.3731038\ttotal: 59.8s\tremaining: 2m 46s\n",
            "264:\tlearn: 0.3727443\ttotal: 60s\tremaining: 2m 46s\n",
            "265:\tlearn: 0.3724183\ttotal: 1m\tremaining: 2m 46s\n",
            "266:\tlearn: 0.3720028\ttotal: 1m\tremaining: 2m 45s\n",
            "267:\tlearn: 0.3716587\ttotal: 1m\tremaining: 2m 45s\n",
            "268:\tlearn: 0.3713613\ttotal: 1m\tremaining: 2m 45s\n",
            "269:\tlearn: 0.3710499\ttotal: 1m 1s\tremaining: 2m 45s\n",
            "270:\tlearn: 0.3707270\ttotal: 1m 1s\tremaining: 2m 44s\n",
            "271:\tlearn: 0.3704197\ttotal: 1m 1s\tremaining: 2m 44s\n",
            "272:\tlearn: 0.3701210\ttotal: 1m 1s\tremaining: 2m 44s\n",
            "273:\tlearn: 0.3698227\ttotal: 1m 2s\tremaining: 2m 44s\n",
            "274:\tlearn: 0.3694984\ttotal: 1m 2s\tremaining: 2m 44s\n",
            "275:\tlearn: 0.3691886\ttotal: 1m 2s\tremaining: 2m 43s\n",
            "276:\tlearn: 0.3689063\ttotal: 1m 2s\tremaining: 2m 43s\n",
            "277:\tlearn: 0.3686004\ttotal: 1m 2s\tremaining: 2m 43s\n",
            "278:\tlearn: 0.3682713\ttotal: 1m 3s\tremaining: 2m 43s\n",
            "279:\tlearn: 0.3679981\ttotal: 1m 3s\tremaining: 2m 42s\n",
            "280:\tlearn: 0.3676804\ttotal: 1m 3s\tremaining: 2m 42s\n",
            "281:\tlearn: 0.3673610\ttotal: 1m 3s\tremaining: 2m 42s\n",
            "282:\tlearn: 0.3670738\ttotal: 1m 3s\tremaining: 2m 41s\n",
            "283:\tlearn: 0.3667844\ttotal: 1m 4s\tremaining: 2m 41s\n",
            "284:\tlearn: 0.3664799\ttotal: 1m 4s\tremaining: 2m 41s\n",
            "285:\tlearn: 0.3661680\ttotal: 1m 4s\tremaining: 2m 41s\n",
            "286:\tlearn: 0.3658665\ttotal: 1m 4s\tremaining: 2m 41s\n",
            "287:\tlearn: 0.3655778\ttotal: 1m 5s\tremaining: 2m 40s\n",
            "288:\tlearn: 0.3652375\ttotal: 1m 5s\tremaining: 2m 40s\n",
            "289:\tlearn: 0.3649107\ttotal: 1m 5s\tremaining: 2m 40s\n",
            "290:\tlearn: 0.3646322\ttotal: 1m 5s\tremaining: 2m 40s\n",
            "291:\tlearn: 0.3643417\ttotal: 1m 6s\tremaining: 2m 40s\n",
            "292:\tlearn: 0.3640738\ttotal: 1m 6s\tremaining: 2m 39s\n",
            "293:\tlearn: 0.3637591\ttotal: 1m 6s\tremaining: 2m 39s\n",
            "294:\tlearn: 0.3634863\ttotal: 1m 6s\tremaining: 2m 39s\n",
            "295:\tlearn: 0.3632188\ttotal: 1m 6s\tremaining: 2m 39s\n",
            "296:\tlearn: 0.3629234\ttotal: 1m 7s\tremaining: 2m 38s\n",
            "297:\tlearn: 0.3626505\ttotal: 1m 7s\tremaining: 2m 38s\n",
            "298:\tlearn: 0.3623760\ttotal: 1m 7s\tremaining: 2m 38s\n",
            "299:\tlearn: 0.3620794\ttotal: 1m 7s\tremaining: 2m 38s\n",
            "300:\tlearn: 0.3618106\ttotal: 1m 8s\tremaining: 2m 37s\n",
            "301:\tlearn: 0.3614932\ttotal: 1m 8s\tremaining: 2m 37s\n",
            "302:\tlearn: 0.3612250\ttotal: 1m 8s\tremaining: 2m 37s\n",
            "303:\tlearn: 0.3609379\ttotal: 1m 8s\tremaining: 2m 37s\n",
            "304:\tlearn: 0.3606625\ttotal: 1m 8s\tremaining: 2m 37s\n",
            "305:\tlearn: 0.3603884\ttotal: 1m 9s\tremaining: 2m 36s\n",
            "306:\tlearn: 0.3601010\ttotal: 1m 9s\tremaining: 2m 36s\n",
            "307:\tlearn: 0.3598294\ttotal: 1m 9s\tremaining: 2m 36s\n",
            "308:\tlearn: 0.3594363\ttotal: 1m 9s\tremaining: 2m 36s\n",
            "309:\tlearn: 0.3591705\ttotal: 1m 10s\tremaining: 2m 35s\n",
            "310:\tlearn: 0.3589034\ttotal: 1m 10s\tremaining: 2m 35s\n",
            "311:\tlearn: 0.3586329\ttotal: 1m 10s\tremaining: 2m 35s\n",
            "312:\tlearn: 0.3583609\ttotal: 1m 10s\tremaining: 2m 35s\n",
            "313:\tlearn: 0.3580995\ttotal: 1m 10s\tremaining: 2m 34s\n",
            "314:\tlearn: 0.3578373\ttotal: 1m 11s\tremaining: 2m 34s\n",
            "315:\tlearn: 0.3575539\ttotal: 1m 11s\tremaining: 2m 34s\n",
            "316:\tlearn: 0.3572641\ttotal: 1m 11s\tremaining: 2m 34s\n",
            "317:\tlearn: 0.3569779\ttotal: 1m 11s\tremaining: 2m 33s\n",
            "318:\tlearn: 0.3567125\ttotal: 1m 11s\tremaining: 2m 33s\n",
            "319:\tlearn: 0.3564566\ttotal: 1m 12s\tremaining: 2m 33s\n",
            "320:\tlearn: 0.3561924\ttotal: 1m 12s\tremaining: 2m 33s\n",
            "321:\tlearn: 0.3559151\ttotal: 1m 12s\tremaining: 2m 32s\n",
            "322:\tlearn: 0.3556512\ttotal: 1m 12s\tremaining: 2m 32s\n",
            "323:\tlearn: 0.3553842\ttotal: 1m 13s\tremaining: 2m 32s\n",
            "324:\tlearn: 0.3551195\ttotal: 1m 13s\tremaining: 2m 32s\n",
            "325:\tlearn: 0.3548549\ttotal: 1m 13s\tremaining: 2m 32s\n",
            "326:\tlearn: 0.3546037\ttotal: 1m 13s\tremaining: 2m 31s\n",
            "327:\tlearn: 0.3543451\ttotal: 1m 13s\tremaining: 2m 31s\n",
            "328:\tlearn: 0.3540839\ttotal: 1m 14s\tremaining: 2m 31s\n",
            "329:\tlearn: 0.3538214\ttotal: 1m 14s\tremaining: 2m 31s\n",
            "330:\tlearn: 0.3535454\ttotal: 1m 14s\tremaining: 2m 30s\n",
            "331:\tlearn: 0.3532999\ttotal: 1m 14s\tremaining: 2m 30s\n",
            "332:\tlearn: 0.3530472\ttotal: 1m 15s\tremaining: 2m 30s\n",
            "333:\tlearn: 0.3527978\ttotal: 1m 15s\tremaining: 2m 30s\n",
            "334:\tlearn: 0.3525169\ttotal: 1m 15s\tremaining: 2m 29s\n",
            "335:\tlearn: 0.3522587\ttotal: 1m 15s\tremaining: 2m 29s\n",
            "336:\tlearn: 0.3520216\ttotal: 1m 16s\tremaining: 2m 29s\n",
            "337:\tlearn: 0.3517511\ttotal: 1m 16s\tremaining: 2m 29s\n",
            "338:\tlearn: 0.3514687\ttotal: 1m 16s\tremaining: 2m 29s\n",
            "339:\tlearn: 0.3512316\ttotal: 1m 16s\tremaining: 2m 29s\n",
            "340:\tlearn: 0.3509819\ttotal: 1m 16s\tremaining: 2m 28s\n",
            "341:\tlearn: 0.3507550\ttotal: 1m 17s\tremaining: 2m 28s\n",
            "342:\tlearn: 0.3505108\ttotal: 1m 17s\tremaining: 2m 28s\n",
            "343:\tlearn: 0.3502651\ttotal: 1m 17s\tremaining: 2m 28s\n",
            "344:\tlearn: 0.3500008\ttotal: 1m 18s\tremaining: 2m 28s\n",
            "345:\tlearn: 0.3497486\ttotal: 1m 18s\tremaining: 2m 27s\n",
            "346:\tlearn: 0.3495038\ttotal: 1m 18s\tremaining: 2m 27s\n",
            "347:\tlearn: 0.3492706\ttotal: 1m 18s\tremaining: 2m 27s\n",
            "348:\tlearn: 0.3490441\ttotal: 1m 18s\tremaining: 2m 27s\n",
            "349:\tlearn: 0.3488125\ttotal: 1m 19s\tremaining: 2m 27s\n",
            "350:\tlearn: 0.3485675\ttotal: 1m 19s\tremaining: 2m 26s\n",
            "351:\tlearn: 0.3483307\ttotal: 1m 19s\tremaining: 2m 26s\n",
            "352:\tlearn: 0.3480878\ttotal: 1m 19s\tremaining: 2m 26s\n",
            "353:\tlearn: 0.3478587\ttotal: 1m 20s\tremaining: 2m 26s\n",
            "354:\tlearn: 0.3476077\ttotal: 1m 20s\tremaining: 2m 25s\n",
            "355:\tlearn: 0.3473496\ttotal: 1m 20s\tremaining: 2m 25s\n",
            "356:\tlearn: 0.3471021\ttotal: 1m 20s\tremaining: 2m 25s\n",
            "357:\tlearn: 0.3468926\ttotal: 1m 21s\tremaining: 2m 25s\n",
            "358:\tlearn: 0.3466603\ttotal: 1m 21s\tremaining: 2m 25s\n",
            "359:\tlearn: 0.3464343\ttotal: 1m 21s\tremaining: 2m 24s\n",
            "360:\tlearn: 0.3461933\ttotal: 1m 21s\tremaining: 2m 24s\n",
            "361:\tlearn: 0.3459460\ttotal: 1m 21s\tremaining: 2m 24s\n",
            "362:\tlearn: 0.3456995\ttotal: 1m 22s\tremaining: 2m 24s\n",
            "363:\tlearn: 0.3454574\ttotal: 1m 22s\tremaining: 2m 23s\n",
            "364:\tlearn: 0.3452308\ttotal: 1m 22s\tremaining: 2m 23s\n",
            "365:\tlearn: 0.3450209\ttotal: 1m 22s\tremaining: 2m 23s\n",
            "366:\tlearn: 0.3447797\ttotal: 1m 22s\tremaining: 2m 23s\n",
            "367:\tlearn: 0.3445526\ttotal: 1m 23s\tremaining: 2m 22s\n",
            "368:\tlearn: 0.3443197\ttotal: 1m 23s\tremaining: 2m 22s\n",
            "369:\tlearn: 0.3440818\ttotal: 1m 23s\tremaining: 2m 22s\n",
            "370:\tlearn: 0.3438717\ttotal: 1m 23s\tremaining: 2m 22s\n",
            "371:\tlearn: 0.3436355\ttotal: 1m 24s\tremaining: 2m 22s\n",
            "372:\tlearn: 0.3434323\ttotal: 1m 24s\tremaining: 2m 21s\n",
            "373:\tlearn: 0.3432221\ttotal: 1m 24s\tremaining: 2m 21s\n",
            "374:\tlearn: 0.3429788\ttotal: 1m 24s\tremaining: 2m 21s\n",
            "375:\tlearn: 0.3427534\ttotal: 1m 25s\tremaining: 2m 21s\n",
            "376:\tlearn: 0.3425411\ttotal: 1m 25s\tremaining: 2m 20s\n",
            "377:\tlearn: 0.3423052\ttotal: 1m 25s\tremaining: 2m 20s\n",
            "378:\tlearn: 0.3420911\ttotal: 1m 25s\tremaining: 2m 20s\n",
            "379:\tlearn: 0.3418450\ttotal: 1m 25s\tremaining: 2m 20s\n",
            "380:\tlearn: 0.3416180\ttotal: 1m 26s\tremaining: 2m 19s\n",
            "381:\tlearn: 0.3414028\ttotal: 1m 26s\tremaining: 2m 19s\n",
            "382:\tlearn: 0.3411893\ttotal: 1m 26s\tremaining: 2m 19s\n",
            "383:\tlearn: 0.3409721\ttotal: 1m 26s\tremaining: 2m 19s\n",
            "384:\tlearn: 0.3407440\ttotal: 1m 27s\tremaining: 2m 18s\n",
            "385:\tlearn: 0.3405306\ttotal: 1m 27s\tremaining: 2m 18s\n",
            "386:\tlearn: 0.3403117\ttotal: 1m 27s\tremaining: 2m 18s\n",
            "387:\tlearn: 0.3400882\ttotal: 1m 27s\tremaining: 2m 18s\n",
            "388:\tlearn: 0.3398891\ttotal: 1m 27s\tremaining: 2m 18s\n",
            "389:\tlearn: 0.3396463\ttotal: 1m 28s\tremaining: 2m 17s\n",
            "390:\tlearn: 0.3394255\ttotal: 1m 28s\tremaining: 2m 17s\n",
            "391:\tlearn: 0.3392156\ttotal: 1m 28s\tremaining: 2m 17s\n",
            "392:\tlearn: 0.3389931\ttotal: 1m 28s\tremaining: 2m 17s\n",
            "393:\tlearn: 0.3387773\ttotal: 1m 29s\tremaining: 2m 16s\n",
            "394:\tlearn: 0.3385787\ttotal: 1m 29s\tremaining: 2m 16s\n",
            "395:\tlearn: 0.3383489\ttotal: 1m 29s\tremaining: 2m 16s\n",
            "396:\tlearn: 0.3381069\ttotal: 1m 29s\tremaining: 2m 16s\n",
            "397:\tlearn: 0.3378769\ttotal: 1m 29s\tremaining: 2m 16s\n",
            "398:\tlearn: 0.3376514\ttotal: 1m 30s\tremaining: 2m 15s\n",
            "399:\tlearn: 0.3374495\ttotal: 1m 30s\tremaining: 2m 15s\n",
            "400:\tlearn: 0.3372459\ttotal: 1m 30s\tremaining: 2m 15s\n",
            "401:\tlearn: 0.3370529\ttotal: 1m 30s\tremaining: 2m 15s\n",
            "402:\tlearn: 0.3368191\ttotal: 1m 31s\tremaining: 2m 14s\n",
            "403:\tlearn: 0.3366080\ttotal: 1m 31s\tremaining: 2m 14s\n",
            "404:\tlearn: 0.3363893\ttotal: 1m 31s\tremaining: 2m 14s\n",
            "405:\tlearn: 0.3361775\ttotal: 1m 31s\tremaining: 2m 14s\n",
            "406:\tlearn: 0.3359656\ttotal: 1m 32s\tremaining: 2m 14s\n",
            "407:\tlearn: 0.3357494\ttotal: 1m 32s\tremaining: 2m 13s\n",
            "408:\tlearn: 0.3355454\ttotal: 1m 32s\tremaining: 2m 13s\n",
            "409:\tlearn: 0.3353040\ttotal: 1m 32s\tremaining: 2m 13s\n",
            "410:\tlearn: 0.3350772\ttotal: 1m 32s\tremaining: 2m 13s\n",
            "411:\tlearn: 0.3348780\ttotal: 1m 33s\tremaining: 2m 12s\n",
            "412:\tlearn: 0.3346693\ttotal: 1m 33s\tremaining: 2m 12s\n",
            "413:\tlearn: 0.3344527\ttotal: 1m 33s\tremaining: 2m 12s\n",
            "414:\tlearn: 0.3342414\ttotal: 1m 33s\tremaining: 2m 12s\n",
            "415:\tlearn: 0.3340335\ttotal: 1m 34s\tremaining: 2m 12s\n",
            "416:\tlearn: 0.3338248\ttotal: 1m 34s\tremaining: 2m 11s\n",
            "417:\tlearn: 0.3336140\ttotal: 1m 34s\tremaining: 2m 11s\n",
            "418:\tlearn: 0.3334119\ttotal: 1m 34s\tremaining: 2m 11s\n",
            "419:\tlearn: 0.3332041\ttotal: 1m 34s\tremaining: 2m 11s\n",
            "420:\tlearn: 0.3329811\ttotal: 1m 35s\tremaining: 2m 10s\n",
            "421:\tlearn: 0.3327878\ttotal: 1m 35s\tremaining: 2m 10s\n",
            "422:\tlearn: 0.3325481\ttotal: 1m 35s\tremaining: 2m 10s\n",
            "423:\tlearn: 0.3323381\ttotal: 1m 35s\tremaining: 2m 10s\n",
            "424:\tlearn: 0.3321584\ttotal: 1m 36s\tremaining: 2m 9s\n",
            "425:\tlearn: 0.3319725\ttotal: 1m 36s\tremaining: 2m 9s\n",
            "426:\tlearn: 0.3317847\ttotal: 1m 36s\tremaining: 2m 9s\n",
            "427:\tlearn: 0.3315848\ttotal: 1m 36s\tremaining: 2m 9s\n",
            "428:\tlearn: 0.3313747\ttotal: 1m 36s\tremaining: 2m 9s\n",
            "429:\tlearn: 0.3311714\ttotal: 1m 37s\tremaining: 2m 8s\n",
            "430:\tlearn: 0.3309915\ttotal: 1m 37s\tremaining: 2m 8s\n",
            "431:\tlearn: 0.3308038\ttotal: 1m 37s\tremaining: 2m 8s\n",
            "432:\tlearn: 0.3306265\ttotal: 1m 37s\tremaining: 2m 8s\n",
            "433:\tlearn: 0.3304283\ttotal: 1m 38s\tremaining: 2m 7s\n",
            "434:\tlearn: 0.3302189\ttotal: 1m 38s\tremaining: 2m 7s\n",
            "435:\tlearn: 0.3300164\ttotal: 1m 38s\tremaining: 2m 7s\n",
            "436:\tlearn: 0.3298594\ttotal: 1m 38s\tremaining: 2m 7s\n",
            "437:\tlearn: 0.3296443\ttotal: 1m 38s\tremaining: 2m 6s\n",
            "438:\tlearn: 0.3294721\ttotal: 1m 39s\tremaining: 2m 6s\n",
            "439:\tlearn: 0.3292821\ttotal: 1m 39s\tremaining: 2m 6s\n",
            "440:\tlearn: 0.3290519\ttotal: 1m 39s\tremaining: 2m 6s\n",
            "441:\tlearn: 0.3288708\ttotal: 1m 39s\tremaining: 2m 5s\n",
            "442:\tlearn: 0.3287084\ttotal: 1m 40s\tremaining: 2m 5s\n",
            "443:\tlearn: 0.3285169\ttotal: 1m 40s\tremaining: 2m 5s\n",
            "444:\tlearn: 0.3282973\ttotal: 1m 40s\tremaining: 2m 5s\n",
            "445:\tlearn: 0.3281074\ttotal: 1m 40s\tremaining: 2m 5s\n",
            "446:\tlearn: 0.3279134\ttotal: 1m 40s\tremaining: 2m 4s\n",
            "447:\tlearn: 0.3277107\ttotal: 1m 41s\tremaining: 2m 4s\n",
            "448:\tlearn: 0.3274890\ttotal: 1m 41s\tremaining: 2m 4s\n",
            "449:\tlearn: 0.3273028\ttotal: 1m 41s\tremaining: 2m 4s\n",
            "450:\tlearn: 0.3271066\ttotal: 1m 41s\tremaining: 2m 3s\n",
            "451:\tlearn: 0.3269088\ttotal: 1m 42s\tremaining: 2m 3s\n",
            "452:\tlearn: 0.3267201\ttotal: 1m 42s\tremaining: 2m 3s\n",
            "453:\tlearn: 0.3265204\ttotal: 1m 42s\tremaining: 2m 3s\n",
            "454:\tlearn: 0.3263353\ttotal: 1m 42s\tremaining: 2m 3s\n",
            "455:\tlearn: 0.3261234\ttotal: 1m 42s\tremaining: 2m 2s\n",
            "456:\tlearn: 0.3259245\ttotal: 1m 43s\tremaining: 2m 2s\n",
            "457:\tlearn: 0.3257367\ttotal: 1m 43s\tremaining: 2m 2s\n",
            "458:\tlearn: 0.3255085\ttotal: 1m 43s\tremaining: 2m 2s\n",
            "459:\tlearn: 0.3253031\ttotal: 1m 43s\tremaining: 2m 2s\n",
            "460:\tlearn: 0.3251298\ttotal: 1m 44s\tremaining: 2m 1s\n",
            "461:\tlearn: 0.3249453\ttotal: 1m 44s\tremaining: 2m 1s\n",
            "462:\tlearn: 0.3247674\ttotal: 1m 44s\tremaining: 2m 1s\n",
            "463:\tlearn: 0.3245901\ttotal: 1m 44s\tremaining: 2m 1s\n",
            "464:\tlearn: 0.3244102\ttotal: 1m 45s\tremaining: 2m\n",
            "465:\tlearn: 0.3242197\ttotal: 1m 45s\tremaining: 2m\n",
            "466:\tlearn: 0.3240932\ttotal: 1m 45s\tremaining: 2m\n",
            "467:\tlearn: 0.3238975\ttotal: 1m 45s\tremaining: 2m\n",
            "468:\tlearn: 0.3237215\ttotal: 1m 45s\tremaining: 1m 59s\n",
            "469:\tlearn: 0.3235538\ttotal: 1m 46s\tremaining: 1m 59s\n",
            "470:\tlearn: 0.3233709\ttotal: 1m 46s\tremaining: 1m 59s\n",
            "471:\tlearn: 0.3232083\ttotal: 1m 46s\tremaining: 1m 59s\n",
            "472:\tlearn: 0.3230363\ttotal: 1m 46s\tremaining: 1m 58s\n",
            "473:\tlearn: 0.3228511\ttotal: 1m 47s\tremaining: 1m 58s\n",
            "474:\tlearn: 0.3226766\ttotal: 1m 47s\tremaining: 1m 58s\n",
            "475:\tlearn: 0.3224776\ttotal: 1m 47s\tremaining: 1m 58s\n",
            "476:\tlearn: 0.3222923\ttotal: 1m 47s\tremaining: 1m 58s\n",
            "477:\tlearn: 0.3221256\ttotal: 1m 47s\tremaining: 1m 57s\n",
            "478:\tlearn: 0.3219587\ttotal: 1m 48s\tremaining: 1m 57s\n",
            "479:\tlearn: 0.3217850\ttotal: 1m 48s\tremaining: 1m 57s\n",
            "480:\tlearn: 0.3216188\ttotal: 1m 48s\tremaining: 1m 57s\n",
            "481:\tlearn: 0.3214347\ttotal: 1m 48s\tremaining: 1m 56s\n",
            "482:\tlearn: 0.3212361\ttotal: 1m 49s\tremaining: 1m 56s\n",
            "483:\tlearn: 0.3210491\ttotal: 1m 49s\tremaining: 1m 56s\n",
            "484:\tlearn: 0.3208610\ttotal: 1m 49s\tremaining: 1m 56s\n",
            "485:\tlearn: 0.3206721\ttotal: 1m 49s\tremaining: 1m 56s\n",
            "486:\tlearn: 0.3204750\ttotal: 1m 49s\tremaining: 1m 55s\n",
            "487:\tlearn: 0.3203032\ttotal: 1m 50s\tremaining: 1m 55s\n",
            "488:\tlearn: 0.3201429\ttotal: 1m 50s\tremaining: 1m 55s\n",
            "489:\tlearn: 0.3199745\ttotal: 1m 50s\tremaining: 1m 55s\n",
            "490:\tlearn: 0.3197974\ttotal: 1m 50s\tremaining: 1m 54s\n",
            "491:\tlearn: 0.3196246\ttotal: 1m 50s\tremaining: 1m 54s\n",
            "492:\tlearn: 0.3194576\ttotal: 1m 51s\tremaining: 1m 54s\n",
            "493:\tlearn: 0.3192680\ttotal: 1m 51s\tremaining: 1m 54s\n",
            "494:\tlearn: 0.3191007\ttotal: 1m 51s\tremaining: 1m 53s\n",
            "495:\tlearn: 0.3189527\ttotal: 1m 51s\tremaining: 1m 53s\n",
            "496:\tlearn: 0.3187934\ttotal: 1m 52s\tremaining: 1m 53s\n",
            "497:\tlearn: 0.3186249\ttotal: 1m 52s\tremaining: 1m 53s\n",
            "498:\tlearn: 0.3184423\ttotal: 1m 52s\tremaining: 1m 52s\n",
            "499:\tlearn: 0.3182848\ttotal: 1m 52s\tremaining: 1m 52s\n",
            "500:\tlearn: 0.3181289\ttotal: 1m 52s\tremaining: 1m 52s\n",
            "501:\tlearn: 0.3179556\ttotal: 1m 53s\tremaining: 1m 52s\n",
            "502:\tlearn: 0.3177730\ttotal: 1m 53s\tremaining: 1m 52s\n",
            "503:\tlearn: 0.3176040\ttotal: 1m 53s\tremaining: 1m 51s\n",
            "504:\tlearn: 0.3174391\ttotal: 1m 53s\tremaining: 1m 51s\n",
            "505:\tlearn: 0.3172531\ttotal: 1m 54s\tremaining: 1m 51s\n",
            "506:\tlearn: 0.3170944\ttotal: 1m 54s\tremaining: 1m 51s\n",
            "507:\tlearn: 0.3169448\ttotal: 1m 54s\tremaining: 1m 50s\n",
            "508:\tlearn: 0.3167769\ttotal: 1m 54s\tremaining: 1m 50s\n",
            "509:\tlearn: 0.3166176\ttotal: 1m 54s\tremaining: 1m 50s\n",
            "510:\tlearn: 0.3164354\ttotal: 1m 55s\tremaining: 1m 50s\n",
            "511:\tlearn: 0.3162769\ttotal: 1m 55s\tremaining: 1m 50s\n",
            "512:\tlearn: 0.3161108\ttotal: 1m 55s\tremaining: 1m 49s\n",
            "513:\tlearn: 0.3159451\ttotal: 1m 55s\tremaining: 1m 49s\n",
            "514:\tlearn: 0.3157865\ttotal: 1m 56s\tremaining: 1m 49s\n",
            "515:\tlearn: 0.3156076\ttotal: 1m 56s\tremaining: 1m 49s\n",
            "516:\tlearn: 0.3154576\ttotal: 1m 56s\tremaining: 1m 48s\n",
            "517:\tlearn: 0.3152947\ttotal: 1m 56s\tremaining: 1m 48s\n",
            "518:\tlearn: 0.3151143\ttotal: 1m 57s\tremaining: 1m 48s\n",
            "519:\tlearn: 0.3149906\ttotal: 1m 57s\tremaining: 1m 48s\n",
            "520:\tlearn: 0.3148129\ttotal: 1m 57s\tremaining: 1m 48s\n",
            "521:\tlearn: 0.3146504\ttotal: 1m 57s\tremaining: 1m 47s\n",
            "522:\tlearn: 0.3144736\ttotal: 1m 57s\tremaining: 1m 47s\n",
            "523:\tlearn: 0.3142772\ttotal: 1m 58s\tremaining: 1m 47s\n",
            "524:\tlearn: 0.3141193\ttotal: 1m 58s\tremaining: 1m 47s\n",
            "525:\tlearn: 0.3139370\ttotal: 1m 58s\tremaining: 1m 46s\n",
            "526:\tlearn: 0.3137759\ttotal: 1m 58s\tremaining: 1m 46s\n",
            "527:\tlearn: 0.3136177\ttotal: 1m 59s\tremaining: 1m 46s\n",
            "528:\tlearn: 0.3134560\ttotal: 1m 59s\tremaining: 1m 46s\n",
            "529:\tlearn: 0.3132998\ttotal: 1m 59s\tremaining: 1m 45s\n",
            "530:\tlearn: 0.3131886\ttotal: 1m 59s\tremaining: 1m 45s\n",
            "531:\tlearn: 0.3130138\ttotal: 1m 59s\tremaining: 1m 45s\n",
            "532:\tlearn: 0.3128563\ttotal: 2m\tremaining: 1m 45s\n",
            "533:\tlearn: 0.3127013\ttotal: 2m\tremaining: 1m 45s\n",
            "534:\tlearn: 0.3125382\ttotal: 2m\tremaining: 1m 44s\n",
            "535:\tlearn: 0.3123874\ttotal: 2m\tremaining: 1m 44s\n",
            "536:\tlearn: 0.3122336\ttotal: 2m 1s\tremaining: 1m 44s\n",
            "537:\tlearn: 0.3120792\ttotal: 2m 1s\tremaining: 1m 44s\n",
            "538:\tlearn: 0.3119260\ttotal: 2m 1s\tremaining: 1m 43s\n",
            "539:\tlearn: 0.3117705\ttotal: 2m 1s\tremaining: 1m 43s\n",
            "540:\tlearn: 0.3116146\ttotal: 2m 1s\tremaining: 1m 43s\n",
            "541:\tlearn: 0.3114533\ttotal: 2m 2s\tremaining: 1m 43s\n",
            "542:\tlearn: 0.3112912\ttotal: 2m 2s\tremaining: 1m 42s\n",
            "543:\tlearn: 0.3111327\ttotal: 2m 2s\tremaining: 1m 42s\n",
            "544:\tlearn: 0.3109563\ttotal: 2m 2s\tremaining: 1m 42s\n",
            "545:\tlearn: 0.3108008\ttotal: 2m 2s\tremaining: 1m 42s\n",
            "546:\tlearn: 0.3106210\ttotal: 2m 3s\tremaining: 1m 42s\n",
            "547:\tlearn: 0.3104582\ttotal: 2m 3s\tremaining: 1m 41s\n",
            "548:\tlearn: 0.3103030\ttotal: 2m 3s\tremaining: 1m 41s\n",
            "549:\tlearn: 0.3101439\ttotal: 2m 3s\tremaining: 1m 41s\n",
            "550:\tlearn: 0.3099896\ttotal: 2m 4s\tremaining: 1m 41s\n",
            "551:\tlearn: 0.3098285\ttotal: 2m 4s\tremaining: 1m 40s\n",
            "552:\tlearn: 0.3097329\ttotal: 2m 4s\tremaining: 1m 40s\n",
            "553:\tlearn: 0.3095625\ttotal: 2m 4s\tremaining: 1m 40s\n",
            "554:\tlearn: 0.3094064\ttotal: 2m 4s\tremaining: 1m 40s\n",
            "555:\tlearn: 0.3092275\ttotal: 2m 5s\tremaining: 1m 39s\n",
            "556:\tlearn: 0.3090561\ttotal: 2m 5s\tremaining: 1m 39s\n",
            "557:\tlearn: 0.3088988\ttotal: 2m 5s\tremaining: 1m 39s\n",
            "558:\tlearn: 0.3087394\ttotal: 2m 5s\tremaining: 1m 39s\n",
            "559:\tlearn: 0.3085937\ttotal: 2m 6s\tremaining: 1m 39s\n",
            "560:\tlearn: 0.3084416\ttotal: 2m 6s\tremaining: 1m 38s\n",
            "561:\tlearn: 0.3082972\ttotal: 2m 6s\tremaining: 1m 38s\n",
            "562:\tlearn: 0.3081080\ttotal: 2m 6s\tremaining: 1m 38s\n",
            "563:\tlearn: 0.3079644\ttotal: 2m 6s\tremaining: 1m 38s\n",
            "564:\tlearn: 0.3078135\ttotal: 2m 7s\tremaining: 1m 37s\n",
            "565:\tlearn: 0.3076687\ttotal: 2m 7s\tremaining: 1m 37s\n",
            "566:\tlearn: 0.3075136\ttotal: 2m 7s\tremaining: 1m 37s\n",
            "567:\tlearn: 0.3073740\ttotal: 2m 7s\tremaining: 1m 37s\n",
            "568:\tlearn: 0.3072318\ttotal: 2m 8s\tremaining: 1m 37s\n",
            "569:\tlearn: 0.3070701\ttotal: 2m 8s\tremaining: 1m 36s\n",
            "570:\tlearn: 0.3068845\ttotal: 2m 8s\tremaining: 1m 36s\n",
            "571:\tlearn: 0.3067406\ttotal: 2m 8s\tremaining: 1m 36s\n",
            "572:\tlearn: 0.3066665\ttotal: 2m 8s\tremaining: 1m 36s\n",
            "573:\tlearn: 0.3065175\ttotal: 2m 9s\tremaining: 1m 35s\n",
            "574:\tlearn: 0.3063721\ttotal: 2m 9s\tremaining: 1m 35s\n",
            "575:\tlearn: 0.3062377\ttotal: 2m 9s\tremaining: 1m 35s\n",
            "576:\tlearn: 0.3060787\ttotal: 2m 9s\tremaining: 1m 35s\n",
            "577:\tlearn: 0.3059282\ttotal: 2m 10s\tremaining: 1m 35s\n",
            "578:\tlearn: 0.3057743\ttotal: 2m 10s\tremaining: 1m 34s\n",
            "579:\tlearn: 0.3056252\ttotal: 2m 10s\tremaining: 1m 34s\n",
            "580:\tlearn: 0.3054767\ttotal: 2m 10s\tremaining: 1m 34s\n",
            "581:\tlearn: 0.3053183\ttotal: 2m 11s\tremaining: 1m 34s\n",
            "582:\tlearn: 0.3051421\ttotal: 2m 11s\tremaining: 1m 33s\n",
            "583:\tlearn: 0.3049834\ttotal: 2m 11s\tremaining: 1m 33s\n",
            "584:\tlearn: 0.3048580\ttotal: 2m 11s\tremaining: 1m 33s\n",
            "585:\tlearn: 0.3046973\ttotal: 2m 11s\tremaining: 1m 33s\n",
            "586:\tlearn: 0.3045441\ttotal: 2m 12s\tremaining: 1m 32s\n",
            "587:\tlearn: 0.3043931\ttotal: 2m 12s\tremaining: 1m 32s\n",
            "588:\tlearn: 0.3042370\ttotal: 2m 12s\tremaining: 1m 32s\n",
            "589:\tlearn: 0.3040926\ttotal: 2m 12s\tremaining: 1m 32s\n",
            "590:\tlearn: 0.3039284\ttotal: 2m 13s\tremaining: 1m 32s\n",
            "591:\tlearn: 0.3037658\ttotal: 2m 13s\tremaining: 1m 31s\n",
            "592:\tlearn: 0.3036391\ttotal: 2m 13s\tremaining: 1m 31s\n",
            "593:\tlearn: 0.3035152\ttotal: 2m 13s\tremaining: 1m 31s\n",
            "594:\tlearn: 0.3033631\ttotal: 2m 13s\tremaining: 1m 31s\n",
            "595:\tlearn: 0.3032299\ttotal: 2m 14s\tremaining: 1m 30s\n",
            "596:\tlearn: 0.3030926\ttotal: 2m 14s\tremaining: 1m 30s\n",
            "597:\tlearn: 0.3029587\ttotal: 2m 14s\tremaining: 1m 30s\n",
            "598:\tlearn: 0.3027990\ttotal: 2m 14s\tremaining: 1m 30s\n",
            "599:\tlearn: 0.3026478\ttotal: 2m 15s\tremaining: 1m 30s\n",
            "600:\tlearn: 0.3025195\ttotal: 2m 15s\tremaining: 1m 29s\n",
            "601:\tlearn: 0.3023553\ttotal: 2m 15s\tremaining: 1m 29s\n",
            "602:\tlearn: 0.3022078\ttotal: 2m 15s\tremaining: 1m 29s\n",
            "603:\tlearn: 0.3020906\ttotal: 2m 15s\tremaining: 1m 29s\n",
            "604:\tlearn: 0.3019519\ttotal: 2m 16s\tremaining: 1m 28s\n",
            "605:\tlearn: 0.3018108\ttotal: 2m 16s\tremaining: 1m 28s\n",
            "606:\tlearn: 0.3016602\ttotal: 2m 16s\tremaining: 1m 28s\n",
            "607:\tlearn: 0.3015030\ttotal: 2m 16s\tremaining: 1m 28s\n",
            "608:\tlearn: 0.3013448\ttotal: 2m 16s\tremaining: 1m 27s\n",
            "609:\tlearn: 0.3012839\ttotal: 2m 17s\tremaining: 1m 27s\n",
            "610:\tlearn: 0.3011526\ttotal: 2m 17s\tremaining: 1m 27s\n",
            "611:\tlearn: 0.3010090\ttotal: 2m 17s\tremaining: 1m 27s\n",
            "612:\tlearn: 0.3008735\ttotal: 2m 17s\tremaining: 1m 27s\n",
            "613:\tlearn: 0.3007611\ttotal: 2m 18s\tremaining: 1m 26s\n",
            "614:\tlearn: 0.3006386\ttotal: 2m 18s\tremaining: 1m 26s\n",
            "615:\tlearn: 0.3004994\ttotal: 2m 18s\tremaining: 1m 26s\n",
            "616:\tlearn: 0.3003824\ttotal: 2m 18s\tremaining: 1m 26s\n",
            "617:\tlearn: 0.3002408\ttotal: 2m 18s\tremaining: 1m 25s\n",
            "618:\tlearn: 0.3001052\ttotal: 2m 19s\tremaining: 1m 25s\n",
            "619:\tlearn: 0.2999728\ttotal: 2m 19s\tremaining: 1m 25s\n",
            "620:\tlearn: 0.2998336\ttotal: 2m 19s\tremaining: 1m 25s\n",
            "621:\tlearn: 0.2997106\ttotal: 2m 19s\tremaining: 1m 24s\n",
            "622:\tlearn: 0.2995748\ttotal: 2m 19s\tremaining: 1m 24s\n",
            "623:\tlearn: 0.2994350\ttotal: 2m 20s\tremaining: 1m 24s\n",
            "624:\tlearn: 0.2992988\ttotal: 2m 20s\tremaining: 1m 24s\n",
            "625:\tlearn: 0.2991714\ttotal: 2m 20s\tremaining: 1m 24s\n",
            "626:\tlearn: 0.2990536\ttotal: 2m 20s\tremaining: 1m 23s\n",
            "627:\tlearn: 0.2989164\ttotal: 2m 21s\tremaining: 1m 23s\n",
            "628:\tlearn: 0.2987830\ttotal: 2m 21s\tremaining: 1m 23s\n",
            "629:\tlearn: 0.2986492\ttotal: 2m 21s\tremaining: 1m 23s\n",
            "630:\tlearn: 0.2985233\ttotal: 2m 21s\tremaining: 1m 22s\n",
            "631:\tlearn: 0.2984380\ttotal: 2m 22s\tremaining: 1m 22s\n",
            "632:\tlearn: 0.2983072\ttotal: 2m 22s\tremaining: 1m 22s\n",
            "633:\tlearn: 0.2981727\ttotal: 2m 22s\tremaining: 1m 22s\n",
            "634:\tlearn: 0.2980551\ttotal: 2m 22s\tremaining: 1m 22s\n",
            "635:\tlearn: 0.2979326\ttotal: 2m 22s\tremaining: 1m 21s\n",
            "636:\tlearn: 0.2977965\ttotal: 2m 23s\tremaining: 1m 21s\n",
            "637:\tlearn: 0.2976637\ttotal: 2m 23s\tremaining: 1m 21s\n",
            "638:\tlearn: 0.2975268\ttotal: 2m 23s\tremaining: 1m 21s\n",
            "639:\tlearn: 0.2973999\ttotal: 2m 23s\tremaining: 1m 20s\n",
            "640:\tlearn: 0.2972664\ttotal: 2m 24s\tremaining: 1m 20s\n",
            "641:\tlearn: 0.2971335\ttotal: 2m 24s\tremaining: 1m 20s\n",
            "642:\tlearn: 0.2969880\ttotal: 2m 24s\tremaining: 1m 20s\n",
            "643:\tlearn: 0.2968607\ttotal: 2m 24s\tremaining: 1m 20s\n",
            "644:\tlearn: 0.2967372\ttotal: 2m 24s\tremaining: 1m 19s\n",
            "645:\tlearn: 0.2965922\ttotal: 2m 25s\tremaining: 1m 19s\n",
            "646:\tlearn: 0.2964473\ttotal: 2m 25s\tremaining: 1m 19s\n",
            "647:\tlearn: 0.2963211\ttotal: 2m 25s\tremaining: 1m 19s\n",
            "648:\tlearn: 0.2962616\ttotal: 2m 25s\tremaining: 1m 18s\n",
            "649:\tlearn: 0.2961173\ttotal: 2m 26s\tremaining: 1m 18s\n",
            "650:\tlearn: 0.2959658\ttotal: 2m 26s\tremaining: 1m 18s\n",
            "651:\tlearn: 0.2958190\ttotal: 2m 26s\tremaining: 1m 18s\n",
            "652:\tlearn: 0.2956799\ttotal: 2m 26s\tremaining: 1m 17s\n",
            "653:\tlearn: 0.2955308\ttotal: 2m 26s\tremaining: 1m 17s\n",
            "654:\tlearn: 0.2953855\ttotal: 2m 27s\tremaining: 1m 17s\n",
            "655:\tlearn: 0.2952827\ttotal: 2m 27s\tremaining: 1m 17s\n",
            "656:\tlearn: 0.2951093\ttotal: 2m 27s\tremaining: 1m 17s\n",
            "657:\tlearn: 0.2949747\ttotal: 2m 27s\tremaining: 1m 16s\n",
            "658:\tlearn: 0.2948505\ttotal: 2m 28s\tremaining: 1m 16s\n",
            "659:\tlearn: 0.2947047\ttotal: 2m 28s\tremaining: 1m 16s\n",
            "660:\tlearn: 0.2945152\ttotal: 2m 28s\tremaining: 1m 16s\n",
            "661:\tlearn: 0.2943939\ttotal: 2m 28s\tremaining: 1m 15s\n",
            "662:\tlearn: 0.2942610\ttotal: 2m 28s\tremaining: 1m 15s\n",
            "663:\tlearn: 0.2941303\ttotal: 2m 29s\tremaining: 1m 15s\n",
            "664:\tlearn: 0.2939907\ttotal: 2m 29s\tremaining: 1m 15s\n",
            "665:\tlearn: 0.2938463\ttotal: 2m 29s\tremaining: 1m 15s\n",
            "666:\tlearn: 0.2937022\ttotal: 2m 29s\tremaining: 1m 14s\n",
            "667:\tlearn: 0.2935705\ttotal: 2m 29s\tremaining: 1m 14s\n",
            "668:\tlearn: 0.2934502\ttotal: 2m 30s\tremaining: 1m 14s\n",
            "669:\tlearn: 0.2933168\ttotal: 2m 30s\tremaining: 1m 14s\n",
            "670:\tlearn: 0.2931757\ttotal: 2m 30s\tremaining: 1m 13s\n",
            "671:\tlearn: 0.2930922\ttotal: 2m 30s\tremaining: 1m 13s\n",
            "672:\tlearn: 0.2929647\ttotal: 2m 31s\tremaining: 1m 13s\n",
            "673:\tlearn: 0.2929143\ttotal: 2m 31s\tremaining: 1m 13s\n",
            "674:\tlearn: 0.2927783\ttotal: 2m 31s\tremaining: 1m 12s\n",
            "675:\tlearn: 0.2926427\ttotal: 2m 31s\tremaining: 1m 12s\n",
            "676:\tlearn: 0.2924809\ttotal: 2m 31s\tremaining: 1m 12s\n",
            "677:\tlearn: 0.2923503\ttotal: 2m 32s\tremaining: 1m 12s\n",
            "678:\tlearn: 0.2922212\ttotal: 2m 32s\tremaining: 1m 12s\n",
            "679:\tlearn: 0.2920887\ttotal: 2m 32s\tremaining: 1m 11s\n",
            "680:\tlearn: 0.2919652\ttotal: 2m 32s\tremaining: 1m 11s\n",
            "681:\tlearn: 0.2918306\ttotal: 2m 33s\tremaining: 1m 11s\n",
            "682:\tlearn: 0.2916982\ttotal: 2m 33s\tremaining: 1m 11s\n",
            "683:\tlearn: 0.2915703\ttotal: 2m 33s\tremaining: 1m 10s\n",
            "684:\tlearn: 0.2914653\ttotal: 2m 33s\tremaining: 1m 10s\n",
            "685:\tlearn: 0.2913245\ttotal: 2m 34s\tremaining: 1m 10s\n",
            "686:\tlearn: 0.2912283\ttotal: 2m 34s\tremaining: 1m 10s\n",
            "687:\tlearn: 0.2911302\ttotal: 2m 34s\tremaining: 1m 10s\n",
            "688:\tlearn: 0.2909837\ttotal: 2m 34s\tremaining: 1m 9s\n",
            "689:\tlearn: 0.2908675\ttotal: 2m 34s\tremaining: 1m 9s\n",
            "690:\tlearn: 0.2907449\ttotal: 2m 35s\tremaining: 1m 9s\n",
            "691:\tlearn: 0.2906149\ttotal: 2m 35s\tremaining: 1m 9s\n",
            "692:\tlearn: 0.2904801\ttotal: 2m 35s\tremaining: 1m 8s\n",
            "693:\tlearn: 0.2903778\ttotal: 2m 35s\tremaining: 1m 8s\n",
            "694:\tlearn: 0.2902543\ttotal: 2m 36s\tremaining: 1m 8s\n",
            "695:\tlearn: 0.2901328\ttotal: 2m 36s\tremaining: 1m 8s\n",
            "696:\tlearn: 0.2900143\ttotal: 2m 36s\tremaining: 1m 8s\n",
            "697:\tlearn: 0.2898792\ttotal: 2m 36s\tremaining: 1m 7s\n",
            "698:\tlearn: 0.2898126\ttotal: 2m 36s\tremaining: 1m 7s\n",
            "699:\tlearn: 0.2897144\ttotal: 2m 37s\tremaining: 1m 7s\n",
            "700:\tlearn: 0.2895705\ttotal: 2m 37s\tremaining: 1m 7s\n",
            "701:\tlearn: 0.2894795\ttotal: 2m 37s\tremaining: 1m 6s\n",
            "702:\tlearn: 0.2893559\ttotal: 2m 37s\tremaining: 1m 6s\n",
            "703:\tlearn: 0.2892323\ttotal: 2m 38s\tremaining: 1m 6s\n",
            "704:\tlearn: 0.2891119\ttotal: 2m 38s\tremaining: 1m 6s\n",
            "705:\tlearn: 0.2889700\ttotal: 2m 38s\tremaining: 1m 6s\n",
            "706:\tlearn: 0.2888549\ttotal: 2m 38s\tremaining: 1m 5s\n",
            "707:\tlearn: 0.2887308\ttotal: 2m 38s\tremaining: 1m 5s\n",
            "708:\tlearn: 0.2886010\ttotal: 2m 39s\tremaining: 1m 5s\n",
            "709:\tlearn: 0.2884980\ttotal: 2m 39s\tremaining: 1m 5s\n",
            "710:\tlearn: 0.2883809\ttotal: 2m 39s\tremaining: 1m 4s\n",
            "711:\tlearn: 0.2882614\ttotal: 2m 39s\tremaining: 1m 4s\n",
            "712:\tlearn: 0.2881518\ttotal: 2m 40s\tremaining: 1m 4s\n",
            "713:\tlearn: 0.2880157\ttotal: 2m 40s\tremaining: 1m 4s\n",
            "714:\tlearn: 0.2878716\ttotal: 2m 40s\tremaining: 1m 3s\n",
            "715:\tlearn: 0.2877404\ttotal: 2m 40s\tremaining: 1m 3s\n",
            "716:\tlearn: 0.2876271\ttotal: 2m 40s\tremaining: 1m 3s\n",
            "717:\tlearn: 0.2874961\ttotal: 2m 41s\tremaining: 1m 3s\n",
            "718:\tlearn: 0.2873310\ttotal: 2m 41s\tremaining: 1m 3s\n",
            "719:\tlearn: 0.2872410\ttotal: 2m 41s\tremaining: 1m 2s\n",
            "720:\tlearn: 0.2871245\ttotal: 2m 41s\tremaining: 1m 2s\n",
            "721:\tlearn: 0.2870121\ttotal: 2m 41s\tremaining: 1m 2s\n",
            "722:\tlearn: 0.2868867\ttotal: 2m 42s\tremaining: 1m 2s\n",
            "723:\tlearn: 0.2867509\ttotal: 2m 42s\tremaining: 1m 1s\n",
            "724:\tlearn: 0.2866157\ttotal: 2m 42s\tremaining: 1m 1s\n",
            "725:\tlearn: 0.2864850\ttotal: 2m 42s\tremaining: 1m 1s\n",
            "726:\tlearn: 0.2864293\ttotal: 2m 43s\tremaining: 1m 1s\n",
            "727:\tlearn: 0.2863136\ttotal: 2m 43s\tremaining: 1m 1s\n",
            "728:\tlearn: 0.2862007\ttotal: 2m 43s\tremaining: 1m\n",
            "729:\tlearn: 0.2860777\ttotal: 2m 43s\tremaining: 1m\n",
            "730:\tlearn: 0.2859590\ttotal: 2m 43s\tremaining: 1m\n",
            "731:\tlearn: 0.2859028\ttotal: 2m 44s\tremaining: 1m\n",
            "732:\tlearn: 0.2857932\ttotal: 2m 44s\tremaining: 59.9s\n",
            "733:\tlearn: 0.2856568\ttotal: 2m 44s\tremaining: 59.6s\n",
            "734:\tlearn: 0.2855520\ttotal: 2m 44s\tremaining: 59.4s\n",
            "735:\tlearn: 0.2854335\ttotal: 2m 45s\tremaining: 59.2s\n",
            "736:\tlearn: 0.2853176\ttotal: 2m 45s\tremaining: 59s\n",
            "737:\tlearn: 0.2851984\ttotal: 2m 45s\tremaining: 58.8s\n",
            "738:\tlearn: 0.2851662\ttotal: 2m 45s\tremaining: 58.5s\n",
            "739:\tlearn: 0.2850555\ttotal: 2m 45s\tremaining: 58.3s\n",
            "740:\tlearn: 0.2849412\ttotal: 2m 46s\tremaining: 58.1s\n",
            "741:\tlearn: 0.2848354\ttotal: 2m 46s\tremaining: 57.9s\n",
            "742:\tlearn: 0.2847348\ttotal: 2m 46s\tremaining: 57.7s\n",
            "743:\tlearn: 0.2846903\ttotal: 2m 46s\tremaining: 57.4s\n",
            "744:\tlearn: 0.2845912\ttotal: 2m 47s\tremaining: 57.2s\n",
            "745:\tlearn: 0.2844748\ttotal: 2m 47s\tremaining: 57s\n",
            "746:\tlearn: 0.2843545\ttotal: 2m 47s\tremaining: 56.8s\n",
            "747:\tlearn: 0.2842363\ttotal: 2m 47s\tremaining: 56.5s\n",
            "748:\tlearn: 0.2840877\ttotal: 2m 48s\tremaining: 56.3s\n",
            "749:\tlearn: 0.2839863\ttotal: 2m 48s\tremaining: 56.1s\n",
            "750:\tlearn: 0.2838813\ttotal: 2m 48s\tremaining: 55.8s\n",
            "751:\tlearn: 0.2837574\ttotal: 2m 48s\tremaining: 55.6s\n",
            "752:\tlearn: 0.2836392\ttotal: 2m 48s\tremaining: 55.4s\n",
            "753:\tlearn: 0.2835171\ttotal: 2m 49s\tremaining: 55.2s\n",
            "754:\tlearn: 0.2834120\ttotal: 2m 49s\tremaining: 54.9s\n",
            "755:\tlearn: 0.2832691\ttotal: 2m 49s\tremaining: 54.7s\n",
            "756:\tlearn: 0.2831802\ttotal: 2m 49s\tremaining: 54.5s\n",
            "757:\tlearn: 0.2830794\ttotal: 2m 49s\tremaining: 54.3s\n",
            "758:\tlearn: 0.2829651\ttotal: 2m 50s\tremaining: 54s\n",
            "759:\tlearn: 0.2828546\ttotal: 2m 50s\tremaining: 53.8s\n",
            "760:\tlearn: 0.2827485\ttotal: 2m 50s\tremaining: 53.6s\n",
            "761:\tlearn: 0.2826351\ttotal: 2m 50s\tremaining: 53.4s\n",
            "762:\tlearn: 0.2825212\ttotal: 2m 51s\tremaining: 53.1s\n",
            "763:\tlearn: 0.2823887\ttotal: 2m 51s\tremaining: 52.9s\n",
            "764:\tlearn: 0.2822959\ttotal: 2m 51s\tremaining: 52.7s\n",
            "765:\tlearn: 0.2821851\ttotal: 2m 51s\tremaining: 52.5s\n",
            "766:\tlearn: 0.2821279\ttotal: 2m 51s\tremaining: 52.2s\n",
            "767:\tlearn: 0.2820199\ttotal: 2m 52s\tremaining: 52s\n",
            "768:\tlearn: 0.2819133\ttotal: 2m 52s\tremaining: 51.8s\n",
            "769:\tlearn: 0.2818185\ttotal: 2m 52s\tremaining: 51.5s\n",
            "770:\tlearn: 0.2816951\ttotal: 2m 52s\tremaining: 51.3s\n",
            "771:\tlearn: 0.2815880\ttotal: 2m 53s\tremaining: 51.1s\n",
            "772:\tlearn: 0.2814731\ttotal: 2m 53s\tremaining: 50.9s\n",
            "773:\tlearn: 0.2814100\ttotal: 2m 53s\tremaining: 50.6s\n",
            "774:\tlearn: 0.2813147\ttotal: 2m 53s\tremaining: 50.4s\n",
            "775:\tlearn: 0.2812248\ttotal: 2m 53s\tremaining: 50.2s\n",
            "776:\tlearn: 0.2811128\ttotal: 2m 54s\tremaining: 50s\n",
            "777:\tlearn: 0.2810188\ttotal: 2m 54s\tremaining: 49.7s\n",
            "778:\tlearn: 0.2809253\ttotal: 2m 54s\tremaining: 49.5s\n",
            "779:\tlearn: 0.2808101\ttotal: 2m 54s\tremaining: 49.3s\n",
            "780:\tlearn: 0.2806930\ttotal: 2m 54s\tremaining: 49.1s\n",
            "781:\tlearn: 0.2805989\ttotal: 2m 55s\tremaining: 48.8s\n",
            "782:\tlearn: 0.2804814\ttotal: 2m 55s\tremaining: 48.6s\n",
            "783:\tlearn: 0.2803748\ttotal: 2m 55s\tremaining: 48.4s\n",
            "784:\tlearn: 0.2802506\ttotal: 2m 55s\tremaining: 48.1s\n",
            "785:\tlearn: 0.2801420\ttotal: 2m 56s\tremaining: 47.9s\n",
            "786:\tlearn: 0.2801082\ttotal: 2m 56s\tremaining: 47.7s\n",
            "787:\tlearn: 0.2799866\ttotal: 2m 56s\tremaining: 47.5s\n",
            "788:\tlearn: 0.2798683\ttotal: 2m 56s\tremaining: 47.2s\n",
            "789:\tlearn: 0.2797685\ttotal: 2m 56s\tremaining: 47s\n",
            "790:\tlearn: 0.2796499\ttotal: 2m 57s\tremaining: 46.8s\n",
            "791:\tlearn: 0.2795270\ttotal: 2m 57s\tremaining: 46.6s\n",
            "792:\tlearn: 0.2794187\ttotal: 2m 57s\tremaining: 46.4s\n",
            "793:\tlearn: 0.2793185\ttotal: 2m 57s\tremaining: 46.1s\n",
            "794:\tlearn: 0.2792121\ttotal: 2m 58s\tremaining: 45.9s\n",
            "795:\tlearn: 0.2791051\ttotal: 2m 58s\tremaining: 45.7s\n",
            "796:\tlearn: 0.2790196\ttotal: 2m 58s\tremaining: 45.5s\n",
            "797:\tlearn: 0.2789351\ttotal: 2m 58s\tremaining: 45.2s\n",
            "798:\tlearn: 0.2788216\ttotal: 2m 58s\tremaining: 45s\n",
            "799:\tlearn: 0.2787069\ttotal: 2m 59s\tremaining: 44.8s\n",
            "800:\tlearn: 0.2785839\ttotal: 2m 59s\tremaining: 44.6s\n",
            "801:\tlearn: 0.2784565\ttotal: 2m 59s\tremaining: 44.4s\n",
            "802:\tlearn: 0.2783318\ttotal: 2m 59s\tremaining: 44.1s\n",
            "803:\tlearn: 0.2782163\ttotal: 3m\tremaining: 43.9s\n",
            "804:\tlearn: 0.2781108\ttotal: 3m\tremaining: 43.7s\n",
            "805:\tlearn: 0.2780064\ttotal: 3m\tremaining: 43.5s\n",
            "806:\tlearn: 0.2779690\ttotal: 3m\tremaining: 43.2s\n",
            "807:\tlearn: 0.2778556\ttotal: 3m\tremaining: 43s\n",
            "808:\tlearn: 0.2777849\ttotal: 3m 1s\tremaining: 42.8s\n",
            "809:\tlearn: 0.2776598\ttotal: 3m 1s\tremaining: 42.6s\n",
            "810:\tlearn: 0.2775540\ttotal: 3m 1s\tremaining: 42.3s\n",
            "811:\tlearn: 0.2774595\ttotal: 3m 1s\tremaining: 42.1s\n",
            "812:\tlearn: 0.2773436\ttotal: 3m 2s\tremaining: 41.9s\n",
            "813:\tlearn: 0.2772525\ttotal: 3m 2s\tremaining: 41.7s\n",
            "814:\tlearn: 0.2771626\ttotal: 3m 2s\tremaining: 41.4s\n",
            "815:\tlearn: 0.2770341\ttotal: 3m 2s\tremaining: 41.2s\n",
            "816:\tlearn: 0.2769286\ttotal: 3m 2s\tremaining: 41s\n",
            "817:\tlearn: 0.2768750\ttotal: 3m 3s\tremaining: 40.7s\n",
            "818:\tlearn: 0.2767681\ttotal: 3m 3s\tremaining: 40.5s\n",
            "819:\tlearn: 0.2766716\ttotal: 3m 3s\tremaining: 40.3s\n",
            "820:\tlearn: 0.2765680\ttotal: 3m 3s\tremaining: 40.1s\n",
            "821:\tlearn: 0.2764533\ttotal: 3m 4s\tremaining: 39.8s\n",
            "822:\tlearn: 0.2763371\ttotal: 3m 4s\tremaining: 39.6s\n",
            "823:\tlearn: 0.2762236\ttotal: 3m 4s\tremaining: 39.4s\n",
            "824:\tlearn: 0.2761882\ttotal: 3m 4s\tremaining: 39.2s\n",
            "825:\tlearn: 0.2760741\ttotal: 3m 4s\tremaining: 38.9s\n",
            "826:\tlearn: 0.2759803\ttotal: 3m 5s\tremaining: 38.7s\n",
            "827:\tlearn: 0.2758669\ttotal: 3m 5s\tremaining: 38.5s\n",
            "828:\tlearn: 0.2757786\ttotal: 3m 5s\tremaining: 38.3s\n",
            "829:\tlearn: 0.2756755\ttotal: 3m 5s\tremaining: 38s\n",
            "830:\tlearn: 0.2755766\ttotal: 3m 5s\tremaining: 37.8s\n",
            "831:\tlearn: 0.2754867\ttotal: 3m 6s\tremaining: 37.6s\n",
            "832:\tlearn: 0.2753597\ttotal: 3m 6s\tremaining: 37.4s\n",
            "833:\tlearn: 0.2752601\ttotal: 3m 6s\tremaining: 37.1s\n",
            "834:\tlearn: 0.2751357\ttotal: 3m 6s\tremaining: 36.9s\n",
            "835:\tlearn: 0.2750173\ttotal: 3m 7s\tremaining: 36.7s\n",
            "836:\tlearn: 0.2749079\ttotal: 3m 7s\tremaining: 36.5s\n",
            "837:\tlearn: 0.2747958\ttotal: 3m 7s\tremaining: 36.2s\n",
            "838:\tlearn: 0.2746797\ttotal: 3m 7s\tremaining: 36s\n",
            "839:\tlearn: 0.2745727\ttotal: 3m 7s\tremaining: 35.8s\n",
            "840:\tlearn: 0.2744731\ttotal: 3m 8s\tremaining: 35.6s\n",
            "841:\tlearn: 0.2743975\ttotal: 3m 8s\tremaining: 35.3s\n",
            "842:\tlearn: 0.2742963\ttotal: 3m 8s\tremaining: 35.1s\n",
            "843:\tlearn: 0.2741864\ttotal: 3m 8s\tremaining: 34.9s\n",
            "844:\tlearn: 0.2741054\ttotal: 3m 9s\tremaining: 34.7s\n",
            "845:\tlearn: 0.2740011\ttotal: 3m 9s\tremaining: 34.4s\n",
            "846:\tlearn: 0.2739105\ttotal: 3m 9s\tremaining: 34.2s\n",
            "847:\tlearn: 0.2738152\ttotal: 3m 9s\tremaining: 34s\n",
            "848:\tlearn: 0.2737079\ttotal: 3m 9s\tremaining: 33.8s\n",
            "849:\tlearn: 0.2736534\ttotal: 3m 10s\tremaining: 33.6s\n",
            "850:\tlearn: 0.2735306\ttotal: 3m 10s\tremaining: 33.3s\n",
            "851:\tlearn: 0.2734509\ttotal: 3m 10s\tremaining: 33.1s\n",
            "852:\tlearn: 0.2734218\ttotal: 3m 10s\tremaining: 32.9s\n",
            "853:\tlearn: 0.2733090\ttotal: 3m 11s\tremaining: 32.7s\n",
            "854:\tlearn: 0.2731923\ttotal: 3m 11s\tremaining: 32.4s\n",
            "855:\tlearn: 0.2730796\ttotal: 3m 11s\tremaining: 32.2s\n",
            "856:\tlearn: 0.2730456\ttotal: 3m 11s\tremaining: 32s\n",
            "857:\tlearn: 0.2729446\ttotal: 3m 12s\tremaining: 31.8s\n",
            "858:\tlearn: 0.2728467\ttotal: 3m 12s\tremaining: 31.6s\n",
            "859:\tlearn: 0.2727430\ttotal: 3m 12s\tremaining: 31.3s\n",
            "860:\tlearn: 0.2726243\ttotal: 3m 12s\tremaining: 31.1s\n",
            "861:\tlearn: 0.2725227\ttotal: 3m 12s\tremaining: 30.9s\n",
            "862:\tlearn: 0.2724149\ttotal: 3m 13s\tremaining: 30.7s\n",
            "863:\tlearn: 0.2723105\ttotal: 3m 13s\tremaining: 30.4s\n",
            "864:\tlearn: 0.2722067\ttotal: 3m 13s\tremaining: 30.2s\n",
            "865:\tlearn: 0.2721011\ttotal: 3m 13s\tremaining: 30s\n",
            "866:\tlearn: 0.2720726\ttotal: 3m 13s\tremaining: 29.8s\n",
            "867:\tlearn: 0.2719690\ttotal: 3m 14s\tremaining: 29.5s\n",
            "868:\tlearn: 0.2718751\ttotal: 3m 14s\tremaining: 29.3s\n",
            "869:\tlearn: 0.2717903\ttotal: 3m 14s\tremaining: 29.1s\n",
            "870:\tlearn: 0.2717137\ttotal: 3m 14s\tremaining: 28.9s\n",
            "871:\tlearn: 0.2716166\ttotal: 3m 15s\tremaining: 28.6s\n",
            "872:\tlearn: 0.2715328\ttotal: 3m 15s\tremaining: 28.4s\n",
            "873:\tlearn: 0.2714253\ttotal: 3m 15s\tremaining: 28.2s\n",
            "874:\tlearn: 0.2713986\ttotal: 3m 15s\tremaining: 28s\n",
            "875:\tlearn: 0.2712763\ttotal: 3m 15s\tremaining: 27.7s\n",
            "876:\tlearn: 0.2711636\ttotal: 3m 16s\tremaining: 27.5s\n",
            "877:\tlearn: 0.2710745\ttotal: 3m 16s\tremaining: 27.3s\n",
            "878:\tlearn: 0.2709712\ttotal: 3m 16s\tremaining: 27.1s\n",
            "879:\tlearn: 0.2708530\ttotal: 3m 16s\tremaining: 26.8s\n",
            "880:\tlearn: 0.2708134\ttotal: 3m 16s\tremaining: 26.6s\n",
            "881:\tlearn: 0.2707150\ttotal: 3m 17s\tremaining: 26.4s\n",
            "882:\tlearn: 0.2706180\ttotal: 3m 17s\tremaining: 26.2s\n",
            "883:\tlearn: 0.2705228\ttotal: 3m 17s\tremaining: 25.9s\n",
            "884:\tlearn: 0.2704127\ttotal: 3m 17s\tremaining: 25.7s\n",
            "885:\tlearn: 0.2703249\ttotal: 3m 18s\tremaining: 25.5s\n",
            "886:\tlearn: 0.2702186\ttotal: 3m 18s\tremaining: 25.3s\n",
            "887:\tlearn: 0.2701678\ttotal: 3m 18s\tremaining: 25s\n",
            "888:\tlearn: 0.2700863\ttotal: 3m 18s\tremaining: 24.8s\n",
            "889:\tlearn: 0.2699888\ttotal: 3m 18s\tremaining: 24.6s\n",
            "890:\tlearn: 0.2698855\ttotal: 3m 19s\tremaining: 24.4s\n",
            "891:\tlearn: 0.2697757\ttotal: 3m 19s\tremaining: 24.1s\n",
            "892:\tlearn: 0.2696692\ttotal: 3m 19s\tremaining: 23.9s\n",
            "893:\tlearn: 0.2695855\ttotal: 3m 19s\tremaining: 23.7s\n",
            "894:\tlearn: 0.2694975\ttotal: 3m 19s\tremaining: 23.5s\n",
            "895:\tlearn: 0.2694065\ttotal: 3m 20s\tremaining: 23.2s\n",
            "896:\tlearn: 0.2693061\ttotal: 3m 20s\tremaining: 23s\n",
            "897:\tlearn: 0.2692261\ttotal: 3m 20s\tremaining: 22.8s\n",
            "898:\tlearn: 0.2691475\ttotal: 3m 20s\tremaining: 22.6s\n",
            "899:\tlearn: 0.2690506\ttotal: 3m 21s\tremaining: 22.3s\n",
            "900:\tlearn: 0.2690253\ttotal: 3m 21s\tremaining: 22.1s\n",
            "901:\tlearn: 0.2689214\ttotal: 3m 21s\tremaining: 21.9s\n",
            "902:\tlearn: 0.2688254\ttotal: 3m 21s\tremaining: 21.7s\n",
            "903:\tlearn: 0.2687183\ttotal: 3m 21s\tremaining: 21.4s\n",
            "904:\tlearn: 0.2686220\ttotal: 3m 22s\tremaining: 21.2s\n",
            "905:\tlearn: 0.2685893\ttotal: 3m 22s\tremaining: 21s\n",
            "906:\tlearn: 0.2685402\ttotal: 3m 22s\tremaining: 20.8s\n",
            "907:\tlearn: 0.2684421\ttotal: 3m 22s\tremaining: 20.6s\n",
            "908:\tlearn: 0.2683469\ttotal: 3m 23s\tremaining: 20.3s\n",
            "909:\tlearn: 0.2682443\ttotal: 3m 23s\tremaining: 20.1s\n",
            "910:\tlearn: 0.2681422\ttotal: 3m 23s\tremaining: 19.9s\n",
            "911:\tlearn: 0.2680427\ttotal: 3m 23s\tremaining: 19.7s\n",
            "912:\tlearn: 0.2679360\ttotal: 3m 24s\tremaining: 19.4s\n",
            "913:\tlearn: 0.2678530\ttotal: 3m 24s\tremaining: 19.2s\n",
            "914:\tlearn: 0.2677526\ttotal: 3m 24s\tremaining: 19s\n",
            "915:\tlearn: 0.2676229\ttotal: 3m 24s\tremaining: 18.8s\n",
            "916:\tlearn: 0.2675366\ttotal: 3m 24s\tremaining: 18.5s\n",
            "917:\tlearn: 0.2674338\ttotal: 3m 25s\tremaining: 18.3s\n",
            "918:\tlearn: 0.2673367\ttotal: 3m 25s\tremaining: 18.1s\n",
            "919:\tlearn: 0.2672492\ttotal: 3m 25s\tremaining: 17.9s\n",
            "920:\tlearn: 0.2671387\ttotal: 3m 25s\tremaining: 17.7s\n",
            "921:\tlearn: 0.2670626\ttotal: 3m 26s\tremaining: 17.4s\n",
            "922:\tlearn: 0.2669981\ttotal: 3m 26s\tremaining: 17.2s\n",
            "923:\tlearn: 0.2669243\ttotal: 3m 26s\tremaining: 17s\n",
            "924:\tlearn: 0.2668276\ttotal: 3m 26s\tremaining: 16.8s\n",
            "925:\tlearn: 0.2668028\ttotal: 3m 26s\tremaining: 16.5s\n",
            "926:\tlearn: 0.2667054\ttotal: 3m 27s\tremaining: 16.3s\n",
            "927:\tlearn: 0.2666366\ttotal: 3m 27s\tremaining: 16.1s\n",
            "928:\tlearn: 0.2665351\ttotal: 3m 27s\tremaining: 15.9s\n",
            "929:\tlearn: 0.2664506\ttotal: 3m 27s\tremaining: 15.6s\n",
            "930:\tlearn: 0.2663648\ttotal: 3m 27s\tremaining: 15.4s\n",
            "931:\tlearn: 0.2662685\ttotal: 3m 28s\tremaining: 15.2s\n",
            "932:\tlearn: 0.2661816\ttotal: 3m 28s\tremaining: 15s\n",
            "933:\tlearn: 0.2661031\ttotal: 3m 28s\tremaining: 14.7s\n",
            "934:\tlearn: 0.2659948\ttotal: 3m 28s\tremaining: 14.5s\n",
            "935:\tlearn: 0.2658943\ttotal: 3m 29s\tremaining: 14.3s\n",
            "936:\tlearn: 0.2658011\ttotal: 3m 29s\tremaining: 14.1s\n",
            "937:\tlearn: 0.2657731\ttotal: 3m 29s\tremaining: 13.8s\n",
            "938:\tlearn: 0.2656790\ttotal: 3m 29s\tremaining: 13.6s\n",
            "939:\tlearn: 0.2655712\ttotal: 3m 29s\tremaining: 13.4s\n",
            "940:\tlearn: 0.2654539\ttotal: 3m 30s\tremaining: 13.2s\n",
            "941:\tlearn: 0.2654220\ttotal: 3m 30s\tremaining: 12.9s\n",
            "942:\tlearn: 0.2653199\ttotal: 3m 30s\tremaining: 12.7s\n",
            "943:\tlearn: 0.2652707\ttotal: 3m 30s\tremaining: 12.5s\n",
            "944:\tlearn: 0.2651870\ttotal: 3m 30s\tremaining: 12.3s\n",
            "945:\tlearn: 0.2650802\ttotal: 3m 31s\tremaining: 12.1s\n",
            "946:\tlearn: 0.2649675\ttotal: 3m 31s\tremaining: 11.8s\n",
            "947:\tlearn: 0.2649384\ttotal: 3m 31s\tremaining: 11.6s\n",
            "948:\tlearn: 0.2648673\ttotal: 3m 31s\tremaining: 11.4s\n",
            "949:\tlearn: 0.2647787\ttotal: 3m 32s\tremaining: 11.2s\n",
            "950:\tlearn: 0.2646827\ttotal: 3m 32s\tremaining: 10.9s\n",
            "951:\tlearn: 0.2645696\ttotal: 3m 32s\tremaining: 10.7s\n",
            "952:\tlearn: 0.2645267\ttotal: 3m 32s\tremaining: 10.5s\n",
            "953:\tlearn: 0.2643999\ttotal: 3m 32s\tremaining: 10.3s\n",
            "954:\tlearn: 0.2643129\ttotal: 3m 33s\tremaining: 10s\n",
            "955:\tlearn: 0.2642228\ttotal: 3m 33s\tremaining: 9.82s\n",
            "956:\tlearn: 0.2641238\ttotal: 3m 33s\tremaining: 9.6s\n",
            "957:\tlearn: 0.2640368\ttotal: 3m 33s\tremaining: 9.37s\n",
            "958:\tlearn: 0.2639418\ttotal: 3m 33s\tremaining: 9.15s\n",
            "959:\tlearn: 0.2638501\ttotal: 3m 34s\tremaining: 8.92s\n",
            "960:\tlearn: 0.2637662\ttotal: 3m 34s\tremaining: 8.7s\n",
            "961:\tlearn: 0.2636852\ttotal: 3m 34s\tremaining: 8.48s\n",
            "962:\tlearn: 0.2636056\ttotal: 3m 34s\tremaining: 8.26s\n",
            "963:\tlearn: 0.2635516\ttotal: 3m 35s\tremaining: 8.03s\n",
            "964:\tlearn: 0.2634907\ttotal: 3m 35s\tremaining: 7.81s\n",
            "965:\tlearn: 0.2633754\ttotal: 3m 35s\tremaining: 7.59s\n",
            "966:\tlearn: 0.2632900\ttotal: 3m 35s\tremaining: 7.36s\n",
            "967:\tlearn: 0.2632671\ttotal: 3m 36s\tremaining: 7.14s\n",
            "968:\tlearn: 0.2631516\ttotal: 3m 36s\tremaining: 6.92s\n",
            "969:\tlearn: 0.2630584\ttotal: 3m 36s\tremaining: 6.7s\n",
            "970:\tlearn: 0.2629550\ttotal: 3m 36s\tremaining: 6.47s\n",
            "971:\tlearn: 0.2628703\ttotal: 3m 36s\tremaining: 6.25s\n",
            "972:\tlearn: 0.2627921\ttotal: 3m 37s\tremaining: 6.03s\n",
            "973:\tlearn: 0.2626818\ttotal: 3m 37s\tremaining: 5.8s\n",
            "974:\tlearn: 0.2625774\ttotal: 3m 37s\tremaining: 5.58s\n",
            "975:\tlearn: 0.2624891\ttotal: 3m 37s\tremaining: 5.36s\n",
            "976:\tlearn: 0.2624086\ttotal: 3m 38s\tremaining: 5.13s\n",
            "977:\tlearn: 0.2622948\ttotal: 3m 38s\tremaining: 4.91s\n",
            "978:\tlearn: 0.2621923\ttotal: 3m 38s\tremaining: 4.69s\n",
            "979:\tlearn: 0.2621031\ttotal: 3m 38s\tremaining: 4.46s\n",
            "980:\tlearn: 0.2620080\ttotal: 3m 38s\tremaining: 4.24s\n",
            "981:\tlearn: 0.2619124\ttotal: 3m 39s\tremaining: 4.02s\n",
            "982:\tlearn: 0.2618512\ttotal: 3m 39s\tremaining: 3.79s\n",
            "983:\tlearn: 0.2617812\ttotal: 3m 39s\tremaining: 3.57s\n",
            "984:\tlearn: 0.2616900\ttotal: 3m 39s\tremaining: 3.35s\n",
            "985:\tlearn: 0.2615919\ttotal: 3m 39s\tremaining: 3.12s\n",
            "986:\tlearn: 0.2614744\ttotal: 3m 40s\tremaining: 2.9s\n",
            "987:\tlearn: 0.2613955\ttotal: 3m 40s\tremaining: 2.68s\n",
            "988:\tlearn: 0.2612769\ttotal: 3m 40s\tremaining: 2.45s\n",
            "989:\tlearn: 0.2611860\ttotal: 3m 40s\tremaining: 2.23s\n",
            "990:\tlearn: 0.2610946\ttotal: 3m 41s\tremaining: 2.01s\n",
            "991:\tlearn: 0.2609943\ttotal: 3m 41s\tremaining: 1.78s\n",
            "992:\tlearn: 0.2609013\ttotal: 3m 41s\tremaining: 1.56s\n",
            "993:\tlearn: 0.2608046\ttotal: 3m 41s\tremaining: 1.34s\n",
            "994:\tlearn: 0.2607344\ttotal: 3m 41s\tremaining: 1.11s\n",
            "995:\tlearn: 0.2606536\ttotal: 3m 42s\tremaining: 892ms\n",
            "996:\tlearn: 0.2606040\ttotal: 3m 42s\tremaining: 669ms\n",
            "997:\tlearn: 0.2605171\ttotal: 3m 42s\tremaining: 446ms\n",
            "998:\tlearn: 0.2604357\ttotal: 3m 42s\tremaining: 223ms\n",
            "999:\tlearn: 0.2603506\ttotal: 3m 43s\tremaining: 0us\n",
            "CatBoost Accuracy: 0.8784\n"
          ]
        }
      ]
    },
    {
      "cell_type": "code",
      "source": [
        "import lightgbm as lgb\n",
        "\n",
        "# Convert sparse matrices to Dataset format used by LightGBM\n",
        "# Convert label data to np.float32\n",
        "y_train = y_train.astype(np.float32)\n",
        "y_test = y_test.astype(np.float32)\n",
        "\n",
        "X_train = X_train.astype(np.float32)\n",
        "X_test = X_test.astype(np.float32)\n",
        "\n",
        "train_data = lgb.Dataset(X_train, label=y_train)\n",
        "test_data = lgb.Dataset(X_test, label=y_test)\n",
        "\n",
        "\n",
        "# Set parameters for LightGBM\n",
        "params = {\n",
        "    'objective': 'multiclass',\n",
        "    'num_class': len(np.unique(y_train)),\n",
        "    'metric': 'multi_error'\n",
        "}\n",
        "\n",
        "# Train LightGBM model\n",
        "lgb_model = lgb.train(params, train_data, valid_sets=[test_data])\n",
        "\n",
        "# Predict on the test set\n",
        "y_pred_lgb = np.argmax(lgb_model.predict(X_test), axis=1)\n",
        "\n",
        "# Calculate accuracy\n",
        "accuracy_lgb = accuracy_score(y_test, y_pred_lgb)\n",
        "print(\"LightGBM Accuracy:\", accuracy_lgb)"
      ],
      "metadata": {
        "colab": {
          "base_uri": "https://localhost:8080/"
        },
        "id": "V277c9lv9yuw",
        "outputId": "7951df83-5633-4f5d-f11d-281f0e97fbca"
      },
      "execution_count": 70,
      "outputs": [
        {
          "output_type": "stream",
          "name": "stdout",
          "text": [
            "[LightGBM] [Info] Auto-choosing row-wise multi-threading, the overhead of testing was 1.612480 seconds.\n",
            "You can set `force_row_wise=true` to remove the overhead.\n",
            "And if memory is not enough, you can set `force_col_wise=true`.\n",
            "[LightGBM] [Info] Total Bins 59550\n",
            "[LightGBM] [Info] Number of data points in the train set: 40000, number of used features: 15758\n",
            "[LightGBM] [Info] Start training from score -0.691199\n",
            "[LightGBM] [Info] Start training from score -0.695099\n",
            "LightGBM Accuracy: 0.8616\n"
          ]
        }
      ]
    },
    {
      "cell_type": "code",
      "source": [],
      "metadata": {
        "id": "AfCYAeX-95Eq"
      },
      "execution_count": null,
      "outputs": []
    }
  ]
}